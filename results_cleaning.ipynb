{
 "cells": [
  {
   "cell_type": "markdown",
   "id": "2f85a652",
   "metadata": {},
   "source": [
    "# Results Cleaning"
   ]
  },
  {
   "cell_type": "code",
   "execution_count": 2,
   "id": "cf957a8b",
   "metadata": {},
   "outputs": [],
   "source": [
    "import pandas\n",
    "import matplotlib.pyplot as plt\n",
    "import numpy as np"
   ]
  },
  {
   "cell_type": "code",
   "execution_count": null,
   "id": "5ad06820",
   "metadata": {},
   "outputs": [],
   "source": [
    "file_path = \"combinedOutput.csv\"\n",
    "df = pandas.read_csv(file_path, encoding='utf-8')"
   ]
  },
  {
   "cell_type": "code",
   "execution_count": null,
   "id": "50b28407",
   "metadata": {},
   "outputs": [],
   "source": [
    "df.info()"
   ]
  },
  {
   "cell_type": "code",
   "execution_count": null,
   "id": "44163970",
   "metadata": {},
   "outputs": [],
   "source": [
    "df[\"LLM-Con\"].unique()"
   ]
  },
  {
   "cell_type": "code",
   "execution_count": null,
   "id": "6019aa9a",
   "metadata": {},
   "outputs": [],
   "source": [
    "df[\"LLM-Sim\"].unique()"
   ]
  },
  {
   "cell_type": "code",
   "execution_count": null,
   "id": "5517ff9a",
   "metadata": {},
   "outputs": [],
   "source": [
    "df[df[\"LLM-Con\"]==\"thesemanticsimilarityisverylow.Therefore\"]"
   ]
  },
  {
   "cell_type": "code",
   "execution_count": null,
   "id": "e7b75688",
   "metadata": {},
   "outputs": [],
   "source": [
    "df[df[\"LLM-Con\"]==\"atdetefterderesmeningikketilkommereuropa-parlamentetatudsendepinligeerklæringeromemner\"]"
   ]
  },
  {
   "cell_type": "code",
   "execution_count": null,
   "id": "b31865ad",
   "metadata": {},
   "outputs": [],
   "source": [
    "df[df[\"LLM-Con\"]==\"whileSentence3statesthey*were*negotiable.Therefore\"]"
   ]
  },
  {
   "cell_type": "code",
   "execution_count": null,
   "id": "eacc80f0",
   "metadata": {},
   "outputs": [],
   "source": [
    "df[df[\"LLM-Con\"]==\"regional\"]"
   ]
  },
  {
   "cell_type": "code",
   "execution_count": null,
   "id": "3ff30e34",
   "metadata": {},
   "outputs": [],
   "source": [
    "df[df[\"LLM-Con\"]==\"March11\"]"
   ]
  },
  {
   "cell_type": "code",
   "execution_count": null,
   "id": "ad1daa6e",
   "metadata": {},
   "outputs": [],
   "source": [
    "df[df[\"LLM-Con\"]==\"prøvengangogsåatsepådeledigestillinger\"]"
   ]
  },
  {
   "cell_type": "code",
   "execution_count": null,
   "id": "9113454b",
   "metadata": {},
   "outputs": [],
   "source": [
    "df.drop(index =[11700, 96784, 57172, 62621, 26815, 59738],inplace=True)"
   ]
  },
  {
   "cell_type": "code",
   "execution_count": null,
   "id": "7ff30eb3",
   "metadata": {},
   "outputs": [],
   "source": [
    "# remove empty rows\n",
    "df.dropna(how='all', inplace=True)\n",
    "\n",
    "df.reset_index(drop=True, inplace=True)"
   ]
  },
  {
   "cell_type": "code",
   "execution_count": null,
   "id": "9f3f371d",
   "metadata": {},
   "outputs": [],
   "source": [
    "df.to_csv(\"combinedOutput_cleaned.csv\", index=False)"
   ]
  },
  {
   "cell_type": "code",
   "execution_count": 3,
   "id": "ab63a2b0",
   "metadata": {},
   "outputs": [],
   "source": [
    "file_path = \"combinedOutput_cleaned.csv\"\n",
    "df = pandas.read_csv(file_path, encoding='utf-8')"
   ]
  },
  {
   "cell_type": "code",
   "execution_count": 5,
   "id": "b640af32",
   "metadata": {},
   "outputs": [],
   "source": [
    "da_df = df[df[\"originalLanguage\"]==\"da\"]"
   ]
  },
  {
   "cell_type": "code",
   "execution_count": 6,
   "id": "9d07451a",
   "metadata": {},
   "outputs": [],
   "source": [
    "da_df.to_csv(\"daOutput_cleaned.csv\")"
   ]
  },
  {
   "cell_type": "code",
   "execution_count": 7,
   "id": "9c1aea77",
   "metadata": {},
   "outputs": [],
   "source": [
    "en_df =  df[df[\"originalLanguage\"]==\"en\"]"
   ]
  },
  {
   "cell_type": "code",
   "execution_count": 8,
   "id": "8fca23f3",
   "metadata": {},
   "outputs": [],
   "source": [
    "en_df.to_csv(\"enOutput_cleaned.csv\")"
   ]
  }
 ],
 "metadata": {
  "kernelspec": {
   "display_name": "LLM",
   "language": "python",
   "name": "python3"
  },
  "language_info": {
   "codemirror_mode": {
    "name": "ipython",
    "version": 3
   },
   "file_extension": ".py",
   "mimetype": "text/x-python",
   "name": "python",
   "nbconvert_exporter": "python",
   "pygments_lexer": "ipython3",
   "version": "3.11.5"
  }
 },
 "nbformat": 4,
 "nbformat_minor": 5
}
