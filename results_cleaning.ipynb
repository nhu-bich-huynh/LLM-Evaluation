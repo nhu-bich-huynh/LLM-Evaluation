{
 "cells": [
  {
   "cell_type": "markdown",
   "id": "2f85a652",
   "metadata": {},
   "source": [
    "# Results Cleaning"
   ]
  },
  {
   "cell_type": "code",
   "execution_count": null,
   "id": "c9bcfc1c",
   "metadata": {},
   "outputs": [],
   "source": [
    "# The code written in this file was written for the research project\n",
    "# with GAI providing assistance for trivial coding solutions"
   ]
  },
  {
   "cell_type": "code",
   "execution_count": null,
   "id": "cf957a8b",
   "metadata": {},
   "outputs": [],
   "source": [
    "import nltk\n",
    "import csv\n",
    "import random\n",
    "import numpy as np\n",
    "import time\n",
    "import os\n",
    "import import_ipynb\n",
    "import tampering_strategies as ts\n",
    "import data_sampling as ds\n",
    "from google import genai\n",
    "import Levenshtein\n",
    "from random_word import RandomWords\n",
    "from collections import Counter\n",
    "from nltk.corpus import wordnet\n",
    "from nltk.tokenize.treebank import TreebankWordDetokenizer\n",
    "from nltk.util import ngrams\n",
    "from nltk.tokenize import word_tokenize\n",
    "from nltk.stem import SnowballStemmer\n",
    "import pandas\n",
    "from rouge import Rouge\n",
    "from nltk.translate.bleu_score import sentence_bleu\n",
    "from nltk import word_tokenize\n",
    "from nltk.translate import meteor\n",
    "nltk.download(\"punkt\")\n",
    "nltk.download('wordnet')\n",
    "nltk.download('punkt_tab')"
   ]
  },
  {
   "cell_type": "markdown",
   "id": "b137dd39",
   "metadata": {},
   "source": [
    "## Comebine Output Files"
   ]
  },
  {
   "cell_type": "code",
   "execution_count": null,
   "id": "6601b49e",
   "metadata": {},
   "outputs": [],
   "source": [
    "outputs = [pandas.read_csv(os.path.join(\"./output\", file)) for file in os.listdir(\"./output\")]\n",
    "combined = pandas.concat(outputs, ignore_index=True)\n",
    "combined.to_csv(\"final_output/combinedOutput.csv\", index=False)"
   ]
  },
  {
   "cell_type": "markdown",
   "id": "c78d6451",
   "metadata": {},
   "source": [
    "## Clean Data"
   ]
  },
  {
   "cell_type": "code",
   "execution_count": null,
   "id": "5ad06820",
   "metadata": {},
   "outputs": [],
   "source": [
    "file_path = \"final_output/combinedOutput.csv\"\n",
    "df = pandas.read_csv(file_path, encoding='utf-8')\n",
    "df.drop(index =[11700, 96784, 57172, 62621, 26815, 59738],inplace=True)\n",
    "df.dropna(how='all', inplace=True)\n",
    "df.reset_index(drop=True, inplace=True)\n",
    "df.to_csv(\"final_output/combinedOutput_cleaned.csv\", index=False)\n",
    "file_path = \"final_output/combinedOutput_cleaned.csv\"\n",
    "df = pandas.read_csv(file_path, encoding='utf-8')\n",
    "da_df = df[df[\"originalLanguage\"]==\"da\"]\n",
    "da_df.to_csv(\"final_output/daOutput_cleaned.csv\")\n",
    "en_df =  df[df[\"originalLanguage\"]==\"en\"]\n",
    "en_df.to_csv(\"final_output/enOutput_cleaned.csv\")"
   ]
  }
 ],
 "metadata": {
  "kernelspec": {
   "display_name": "LLM",
   "language": "python",
   "name": "python3"
  },
  "language_info": {
   "codemirror_mode": {
    "name": "ipython",
    "version": 3
   },
   "file_extension": ".py",
   "mimetype": "text/x-python",
   "name": "python",
   "nbconvert_exporter": "python",
   "pygments_lexer": "ipython3",
   "version": "3.11.5"
  }
 },
 "nbformat": 4,
 "nbformat_minor": 5
}
