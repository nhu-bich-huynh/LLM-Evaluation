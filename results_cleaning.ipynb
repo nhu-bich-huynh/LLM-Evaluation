{
 "cells": [
  {
   "cell_type": "markdown",
   "id": "2f85a652",
   "metadata": {},
   "source": [
    "# Results Cleaning"
   ]
  },
  {
   "cell_type": "code",
   "execution_count": null,
   "id": "cf957a8b",
   "metadata": {},
   "outputs": [],
   "source": [
    "import nltk\n",
    "import csv\n",
    "import random\n",
    "import numpy as np\n",
    "import time\n",
    "import os\n",
    "import import_ipynb\n",
    "import tampering_strategies as ts\n",
    "import data_sampling as ds\n",
    "from google import genai\n",
    "import Levenshtein\n",
    "from random_word import RandomWords\n",
    "from collections import Counter\n",
    "from nltk.corpus import wordnet\n",
    "from nltk.tokenize.treebank import TreebankWordDetokenizer\n",
    "from nltk.util import ngrams\n",
    "from nltk.tokenize import word_tokenize\n",
    "from nltk.stem import SnowballStemmer\n",
    "import pandas\n",
    "from rouge import Rouge\n",
    "from nltk.translate.bleu_score import sentence_bleu\n",
    "from nltk import word_tokenize\n",
    "from nltk.translate import meteor\n",
    "nltk.download(\"punkt\")\n",
    "nltk.download('wordnet')\n",
    "nltk.download('punkt_tab')"
   ]
  },
  {
   "cell_type": "markdown",
   "id": "b137dd39",
   "metadata": {},
   "source": [
    "## Comebine Output Files"
   ]
  },
  {
   "cell_type": "code",
   "execution_count": null,
   "id": "6601b49e",
   "metadata": {},
   "outputs": [],
   "source": [
    "outputs = [pandas.read_csv(os.path.join(\"./output\", file)) for file in os.listdir(\"./output\")]\n",
    "combined = pandas.concat(outputs, ignore_index=True)\n",
    "combined.to_csv(\"final_output/combinedOutput.csv\", index=False)"
   ]
  },
  {
   "cell_type": "markdown",
   "id": "c78d6451",
   "metadata": {},
   "source": [
    "## Clean Data"
   ]
  },
  {
   "cell_type": "code",
   "execution_count": null,
   "id": "5ad06820",
   "metadata": {},
   "outputs": [],
   "source": [
    "file_path = \"final_output/combinedOutput.csv\"\n",
    "df = pandas.read_csv(file_path, encoding='utf-8')"
   ]
  },
  {
   "cell_type": "code",
   "execution_count": null,
   "id": "50b28407",
   "metadata": {},
   "outputs": [],
   "source": [
    "df.info()"
   ]
  },
  {
   "cell_type": "code",
   "execution_count": null,
   "id": "44163970",
   "metadata": {},
   "outputs": [],
   "source": [
    "df[\"LLM-Con\"].unique()"
   ]
  },
  {
   "cell_type": "code",
   "execution_count": null,
   "id": "6019aa9a",
   "metadata": {},
   "outputs": [],
   "source": [
    "df[\"LLM-Sim\"].unique()"
   ]
  },
  {
   "cell_type": "code",
   "execution_count": null,
   "id": "5517ff9a",
   "metadata": {},
   "outputs": [],
   "source": [
    "df[df[\"LLM-Con\"]==\"thesemanticsimilarityisverylow.Therefore\"]"
   ]
  },
  {
   "cell_type": "code",
   "execution_count": null,
   "id": "e7b75688",
   "metadata": {},
   "outputs": [],
   "source": [
    "df[df[\"LLM-Con\"]==\"atdetefterderesmeningikketilkommereuropa-parlamentetatudsendepinligeerklæringeromemner\"]"
   ]
  },
  {
   "cell_type": "code",
   "execution_count": null,
   "id": "b31865ad",
   "metadata": {},
   "outputs": [],
   "source": [
    "df[df[\"LLM-Con\"]==\"whileSentence3statesthey*were*negotiable.Therefore\"]"
   ]
  },
  {
   "cell_type": "code",
   "execution_count": null,
   "id": "eacc80f0",
   "metadata": {},
   "outputs": [],
   "source": [
    "df[df[\"LLM-Con\"]==\"regional\"]"
   ]
  },
  {
   "cell_type": "code",
   "execution_count": null,
   "id": "3ff30e34",
   "metadata": {},
   "outputs": [],
   "source": [
    "df[df[\"LLM-Con\"]==\"March11\"]"
   ]
  },
  {
   "cell_type": "code",
   "execution_count": null,
   "id": "ad1daa6e",
   "metadata": {},
   "outputs": [],
   "source": [
    "df[df[\"LLM-Con\"]==\"prøvengangogsåatsepådeledigestillinger\"]"
   ]
  },
  {
   "cell_type": "code",
   "execution_count": null,
   "id": "9113454b",
   "metadata": {},
   "outputs": [],
   "source": [
    "df.drop(index =[11700, 96784, 57172, 62621, 26815, 59738],inplace=True)"
   ]
  },
  {
   "cell_type": "code",
   "execution_count": null,
   "id": "cfde2483",
   "metadata": {},
   "outputs": [],
   "source": [
    "df[\"tamperingType\"].unique()"
   ]
  },
  {
   "cell_type": "code",
   "execution_count": null,
   "id": "01976974",
   "metadata": {},
   "outputs": [],
   "source": [
    "df[\"tamperingType\"].value_counts()"
   ]
  },
  {
   "cell_type": "code",
   "execution_count": null,
   "id": "22f43681",
   "metadata": {},
   "outputs": [],
   "source": [
    "# Update tampering types' names\n",
    "df[\"tamperingType\"] = df[\"tamperingType\"].replace(to_replace=\"Swap characters\", value=\"Letter Order Swapping\")\n",
    "df[\"tamperingType\"] = df[\"tamperingType\"].replace(to_replace=\"Duplicate character\", value=\"Letter Duplication\")\n",
    "df[\"tamperingType\"] = df[\"tamperingType\"].replace(to_replace=\"Duplicate Token\", value=\"Word Duplication\")\n",
    "df[\"tamperingType\"] = df[\"tamperingType\"].replace(to_replace=\"Swap words\", value=\"Word Order Swapping\")\n",
    "df[\"tamperingType\"] = df[\"tamperingType\"].replace(to_replace=\"Remove Token\", value=\"Word Removal\")\n",
    "df[\"tamperingType\"] = df[\"tamperingType\"].replace(to_replace=\"Replace Character\", value=\"Letter Replacement\")\n",
    "df[\"tamperingType\"] = df[\"tamperingType\"].replace(to_replace=\"Remove Character\", value=\"Letter Removal\")\n",
    "df[\"tamperingType\"] = df[\"tamperingType\"].replace(to_replace=\"Add random word\", value=\"Random Word Addition\")\n",
    "df[\"tamperingType\"] = df[\"tamperingType\"].replace(to_replace=\"Replace Token with Random Word\", value=\"Word Replacement\")\n",
    "df[\"tamperingType\"] = df[\"tamperingType\"].replace(to_replace=\"Negation\", value=\"Negation Removal\")"
   ]
  },
  {
   "cell_type": "code",
   "execution_count": null,
   "id": "6596bfb7",
   "metadata": {},
   "outputs": [],
   "source": [
    "df[\"tamperingType\"].unique()"
   ]
  },
  {
   "cell_type": "code",
   "execution_count": null,
   "id": "7a402098",
   "metadata": {},
   "outputs": [],
   "source": [
    "df[\"tamperingType\"].value_counts()"
   ]
  },
  {
   "cell_type": "code",
   "execution_count": null,
   "id": "7ff30eb3",
   "metadata": {},
   "outputs": [],
   "source": [
    "# remove empty rows\n",
    "df.dropna(how='all', inplace=True)\n",
    "\n",
    "df.reset_index(drop=True, inplace=True)"
   ]
  },
  {
   "cell_type": "code",
   "execution_count": null,
   "id": "9f3f371d",
   "metadata": {},
   "outputs": [],
   "source": [
    "df.to_csv(\"final_output/combinedOutput_cleaned.csv\", index=False)"
   ]
  },
  {
   "cell_type": "code",
   "execution_count": null,
   "id": "ab63a2b0",
   "metadata": {},
   "outputs": [],
   "source": [
    "file_path = \"final_output/combinedOutput_cleaned.csv\"\n",
    "df = pandas.read_csv(file_path, encoding='utf-8')"
   ]
  },
  {
   "cell_type": "code",
   "execution_count": null,
   "id": "b640af32",
   "metadata": {},
   "outputs": [],
   "source": [
    "da_df = df[df[\"originalLanguage\"]==\"da\"]"
   ]
  },
  {
   "cell_type": "code",
   "execution_count": null,
   "id": "9d07451a",
   "metadata": {},
   "outputs": [],
   "source": [
    "da_df.to_csv(\"final_output/daOutput_cleaned.csv\")"
   ]
  },
  {
   "cell_type": "code",
   "execution_count": null,
   "id": "9c1aea77",
   "metadata": {},
   "outputs": [],
   "source": [
    "en_df =  df[df[\"originalLanguage\"]==\"en\"]"
   ]
  },
  {
   "cell_type": "code",
   "execution_count": null,
   "id": "8fca23f3",
   "metadata": {},
   "outputs": [],
   "source": [
    "en_df.to_csv(\"final_output/enOutput_cleaned.csv\")"
   ]
  }
 ],
 "metadata": {
  "kernelspec": {
   "display_name": "LLM",
   "language": "python",
   "name": "python3"
  },
  "language_info": {
   "codemirror_mode": {
    "name": "ipython",
    "version": 3
   },
   "file_extension": ".py",
   "mimetype": "text/x-python",
   "name": "python",
   "nbconvert_exporter": "python",
   "pygments_lexer": "ipython3",
   "version": "3.11.5"
  }
 },
 "nbformat": 4,
 "nbformat_minor": 5
}
