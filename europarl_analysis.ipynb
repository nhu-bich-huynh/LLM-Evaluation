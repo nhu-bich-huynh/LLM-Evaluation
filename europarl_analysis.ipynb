{
 "cells": [
  {
   "cell_type": "markdown",
   "metadata": {},
   "source": [
    "# Analysis of the Europarl Dataset"
   ]
  },
  {
   "cell_type": "code",
   "execution_count": null,
   "metadata": {},
   "outputs": [],
   "source": [
    "import nltk\n",
    "import csv\n",
    "import random\n",
    "import numpy as np\n",
    "import time\n",
    "from google import genai\n",
    "import Levenshtein\n",
    "from random_word import RandomWords\n",
    "from collections import Counter\n",
    "from nltk.corpus import wordnet\n",
    "from nltk.tokenize.treebank import TreebankWordDetokenizer\n",
    "from nltk.util import ngrams\n",
    "from nltk.tokenize import word_tokenize\n",
    "from nltk.stem import SnowballStemmer\n",
    "import pandas\n",
    "nltk.download(\"punkt\")"
   ]
  },
  {
   "cell_type": "code",
   "execution_count": null,
   "metadata": {},
   "outputs": [],
   "source": [
    "# Load the dataset\n",
    "def load_data(danish_file, english_file):\n",
    "    with open(danish_file, \"r\", encoding=\"utf-8\") as f_da, open(english_file, \"r\", encoding=\"utf-8\") as f_en:\n",
    "        danish_sentences = [line.strip() for line in f_da.readlines()]\n",
    "        english_sentences = [line.strip() for line in f_en.readlines()]\n",
    "    return danish_sentences, english_sentences\n",
    "\n",
    "danish_sentences, english_sentences = load_data(\"../da.da\", \"../en.en\")\n",
    "\n",
    "# Tokenization\n",
    "danish_tokens = [word_tokenize(sent.lower()) for sent in danish_sentences]\n",
    "english_tokens = [word_tokenize(sent.lower()) for sent in english_sentences]\n",
    "\n",
    "# Flatten lists for word statistics\n",
    "danish_words = [word for sent in danish_tokens for word in sent]\n",
    "english_words = [word for sent in english_tokens for word in sent]"
   ]
  },
  {
   "cell_type": "code",
   "execution_count": null,
   "metadata": {},
   "outputs": [],
   "source": [
    "num_sentences_da = len(danish_sentences)\n",
    "num_sentences_en = len(english_sentences)\n",
    "\n",
    "num_words_da = len(danish_words)\n",
    "num_words_en = len(english_words)\n",
    "\n",
    "unique_words_da = len(set(danish_words))\n",
    "unique_words_en = len(set(english_words))\n",
    "\n",
    "ttr_da = unique_words_da / num_words_da * 100\n",
    "ttr_en = unique_words_en / num_words_en * 100\n",
    "\n",
    "avg_length_da = np.mean([len(sent) for sent in danish_tokens])\n",
    "avg_length_en = np.mean([len(sent) for sent in english_tokens])\n",
    "\n",
    "std_length_da = np.std([len(sent) for sent in danish_tokens])\n",
    "std_length_en = np.std([len(sent) for sent in english_tokens])\n",
    "\n",
    "min_length_da = np.min([len(sent) for sent in danish_tokens])\n",
    "min_length_en = np.min([len(sent) for sent in english_tokens])\n",
    "\n",
    "max_length_da = np.max([len(sent) for sent in danish_tokens])\n",
    "max_length_en = np.max([len(sent) for sent in english_tokens])\n",
    "\n",
    "sentence_length_ratio = avg_length_da / avg_length_en \n",
    "\n",
    "print(f\"Total Sentences: Danish = {num_sentences_da}, English = {num_sentences_en}\")\n",
    "print(f\"Total Words: Danish = {num_words_da}, English = {num_words_en}\")\n",
    "print(f\"Unique Words: Danish = {unique_words_da}, English = {unique_words_en}\")\n",
    "print(f\"Type-Token Ratio: Danish = {ttr_da:.2f}%, English = {ttr_en:.2f}%\")\n",
    "print(f\"Avg. Sentence Length: Danish = {avg_length_da:.2f}, English = {avg_length_en:.2f}\")\n",
    "print(f\"Std Dev Sentence Length: Danish = {std_length_da:.2f}, English = {std_length_en:.2f}\")\n",
    "print(f\"Sentence Length Ratio (DA/EN): {sentence_length_ratio:.2f}\")\n",
    "print(f\"Min sentence length (DA/EN): Danish = {min_length_da}, English = {min_length_en}\")\n",
    "print(f\"Max sentence length (DA/EN): Danish = {max_length_da}, English = {max_length_en}\")"
   ]
  }
 ],
 "metadata": {
  "kernelspec": {
   "display_name": "LLM",
   "language": "python",
   "name": "python3"
  },
  "language_info": {
   "name": "python",
   "version": "3.11.5"
  }
 },
 "nbformat": 4,
 "nbformat_minor": 2
}
