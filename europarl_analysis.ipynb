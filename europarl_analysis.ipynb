{
 "cells": [
  {
   "cell_type": "markdown",
   "metadata": {},
   "source": [
    "# Analysis of the Europarl Dataset"
   ]
  },
  {
   "cell_type": "code",
   "execution_count": null,
   "metadata": {},
   "outputs": [],
   "source": [
    "# The code written in this file was written for the research project\n",
    "# with GAI providing assistance and ideas for trivial coding solutions"
   ]
  },
  {
   "cell_type": "code",
   "execution_count": null,
   "metadata": {},
   "outputs": [],
   "source": [
    "import nltk\n",
    "import csv\n",
    "import random\n",
    "import numpy as np\n",
    "import time\n",
    "from google import genai\n",
    "import Levenshtein\n",
    "from random_word import RandomWords\n",
    "from collections import Counter\n",
    "from nltk.corpus import wordnet\n",
    "from nltk.tokenize.treebank import TreebankWordDetokenizer\n",
    "from nltk.util import ngrams\n",
    "from nltk.tokenize import word_tokenize\n",
    "from nltk.stem import SnowballStemmer\n",
    "import pandas\n",
    "nltk.download(\"punkt\")"
   ]
  },
  {
   "cell_type": "markdown",
   "metadata": {},
   "source": [
    "# Load Data Sets"
   ]
  },
  {
   "cell_type": "code",
   "execution_count": null,
   "metadata": {},
   "outputs": [],
   "source": [
    "def load_data(danish_file, english_file):\n",
    "    danish_sentences = []\n",
    "    english_sentences = []\n",
    "    with open(danish_file, \"r\", encoding=\"utf-8\") as f_da:\n",
    "        for line in f_da.readlines():\n",
    "            danish_sentences.append(line.strip())\n",
    "    with open(english_file, \"r\", encoding=\"utf-8\") as f_en:\n",
    "        for line in f_en.readlines():\n",
    "            english_sentences.append(line.strip())\n",
    "    return danish_sentences, english_sentences\n",
    "    \n",
    "\n",
    "danish_sentences, english_sentences = load_data(\"da-en/Europarl.da-en.da\", \"da-en/Europarl.da-en.en\")\n",
    "\n",
    "danish_tokens = []\n",
    "english_tokens = []\n",
    "\n",
    "for sent in danish_sentences:\n",
    "    danish_tokens.append(word_tokenize(sent.lower()))\n",
    "    \n",
    "for sent in english_sentences:\n",
    "    english_tokens.append(word_tokenize(sent.lower()))\n",
    "\n",
    "danish_words = []\n",
    "english_words = []\n",
    "\n",
    "for sent in danish_tokens:\n",
    "    for word in sent:\n",
    "        danish_words.append(word)\n",
    "    \n",
    "for sent in english_tokens:\n",
    "    for word in sent:\n",
    "        english_words.append(word)\n"
   ]
  },
  {
   "cell_type": "markdown",
   "metadata": {},
   "source": [
    "# Extract Data"
   ]
  },
  {
   "cell_type": "code",
   "execution_count": null,
   "metadata": {},
   "outputs": [],
   "source": [
    "num_sentences_da = len(danish_sentences)\n",
    "num_sentences_en = len(english_sentences)\n",
    "\n",
    "num_words_da = len(danish_words)\n",
    "num_words_en = len(english_words)\n",
    "\n",
    "unique_words_da = len(set(danish_words))\n",
    "unique_words_en = len(set(english_words))\n",
    "\n",
    "ttr_da = unique_words_da / num_words_da * 100\n",
    "ttr_en = unique_words_en / num_words_en * 100\n",
    "\n",
    "length_da = []\n",
    "\n",
    "for sent in danish_tokens:\n",
    "    length_da.append(len(sent))\n",
    "\n",
    "avg_length_da = np.mean(length_da)\n",
    "std_length_da = np.std(length_da)\n",
    "min_length_da = np.min(length_da)\n",
    "max_length_da = np.max(length_da)\n",
    "\n",
    "length_en = []\n",
    "\n",
    "for sent in english_tokens:\n",
    "    length_en.append(len(sent))\n",
    "\n",
    "avg_length_en = np.mean(length_en)\n",
    "std_length_en = np.std(length_en)\n",
    "min_length_en = np.min(length_en)\n",
    "max_length_en = np.max(length_en)\n",
    "\n",
    "sentence_length_ratio = avg_length_da / avg_length_en \n",
    "\n",
    "print(f\"Total Sentences: Danish = {num_sentences_da}, English = {num_sentences_en}\")\n",
    "print(f\"Total Words: Danish = {num_words_da}, English = {num_words_en}\")\n",
    "print(f\"Unique Words: Danish = {unique_words_da}, English = {unique_words_en}\")\n",
    "print(f\"Type-Token Ratio: Danish = {ttr_da:.2f}%, English = {ttr_en:.2f}%\")\n",
    "print(f\"Avg. Sentence Length: Danish = {avg_length_da:.2f}, English = {avg_length_en:.2f}\")\n",
    "print(f\"Std Dev Sentence Length: Danish = {std_length_da:.2f}, English = {std_length_en:.2f}\")\n",
    "print(f\"Sentence Length Ratio (DA/EN): {sentence_length_ratio:.2f}\")\n",
    "print(f\"Min sentence length (DA/EN): Danish = {min_length_da}, English = {min_length_en}\")\n",
    "print(f\"Max sentence length (DA/EN): Danish = {max_length_da}, English = {max_length_en}\")"
   ]
  }
 ],
 "metadata": {
  "kernelspec": {
   "display_name": "LLM",
   "language": "python",
   "name": "python3"
  },
  "language_info": {
   "codemirror_mode": {
    "name": "ipython",
    "version": 3
   },
   "file_extension": ".py",
   "mimetype": "text/x-python",
   "name": "python",
   "nbconvert_exporter": "python",
   "pygments_lexer": "ipython3",
   "version": "3.11.5"
  }
 },
 "nbformat": 4,
 "nbformat_minor": 2
}
