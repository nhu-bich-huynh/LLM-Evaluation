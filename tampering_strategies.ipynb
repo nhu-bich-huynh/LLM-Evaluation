{
 "cells": [
  {
   "cell_type": "markdown",
   "metadata": {},
   "source": [
    "# Tampering Strategies"
   ]
  },
  {
   "cell_type": "markdown",
   "metadata": {},
   "source": [
    "### Load dependencies"
   ]
  },
  {
   "cell_type": "code",
   "execution_count": 2,
   "metadata": {},
   "outputs": [
    {
     "name": "stderr",
     "output_type": "stream",
     "text": [
      "[nltk_data] Downloading package punkt to C:\\Users\\Phong\n",
      "[nltk_data]     Phan\\AppData\\Roaming\\nltk_data...\n",
      "[nltk_data]   Package punkt is already up-to-date!\n",
      "[nltk_data] Downloading package wordnet to C:\\Users\\Phong\n",
      "[nltk_data]     Phan\\AppData\\Roaming\\nltk_data...\n",
      "[nltk_data]   Package wordnet is already up-to-date!\n",
      "[nltk_data] Downloading package punkt_tab to C:\\Users\\Phong\n",
      "[nltk_data]     Phan\\AppData\\Roaming\\nltk_data...\n",
      "[nltk_data]   Package punkt_tab is already up-to-date!\n"
     ]
    },
    {
     "data": {
      "text/plain": [
       "True"
      ]
     },
     "execution_count": 2,
     "metadata": {},
     "output_type": "execute_result"
    }
   ],
   "source": [
    "import nltk\n",
    "import csv\n",
    "import random\n",
    "import numpy as np\n",
    "import time\n",
    "from google import genai\n",
    "import Levenshtein\n",
    "from random_word import RandomWords\n",
    "from collections import Counter\n",
    "from nltk.corpus import wordnet\n",
    "from nltk.tokenize.treebank import TreebankWordDetokenizer\n",
    "from nltk.util import ngrams\n",
    "from nltk.tokenize import word_tokenize\n",
    "from nltk.stem import SnowballStemmer\n",
    "import pandas\n",
    "from rouge import Rouge\n",
    "from nltk.translate.bleu_score import sentence_bleu\n",
    "from nltk import word_tokenize\n",
    "from nltk.translate import meteor\n",
    "nltk.download(\"punkt\")\n",
    "nltk.download('wordnet')\n",
    "nltk.download('punkt_tab')"
   ]
  },
  {
   "cell_type": "markdown",
   "metadata": {},
   "source": [
    "# Replace token with random word"
   ]
  },
  {
   "cell_type": "code",
   "execution_count": 4,
   "metadata": {},
   "outputs": [],
   "source": [
    "rouge = Rouge()\n",
    "r = RandomWords()"
   ]
  },
  {
   "cell_type": "code",
   "execution_count": 5,
   "metadata": {},
   "outputs": [
    {
     "name": "stdout",
     "output_type": "stream",
     "text": [
      "(False, '.')\n"
     ]
    }
   ],
   "source": [
    "def replaceWithRandomWord(sen):\n",
    "    randomWord = r.get_random_word()\n",
    "    toks = word_tokenize(sen.lower())\n",
    "    if len(toks) < 2:\n",
    "        return False, sen\n",
    "    indx = random.randrange(len(toks))\n",
    "    toks[indx] = randomWord\n",
    "    res = TreebankWordDetokenizer().detokenize(toks)\n",
    "    return (not res==sen.lower()), res\n",
    "\n",
    "print(replaceWithRandomWord(\".\"))"
   ]
  },
  {
   "cell_type": "markdown",
   "metadata": {},
   "source": [
    "# Swap Words"
   ]
  },
  {
   "cell_type": "code",
   "execution_count": 6,
   "metadata": {},
   "outputs": [
    {
     "name": "stdout",
     "output_type": "stream",
     "text": [
      "(True, 'hello, what are doing? you ')\n"
     ]
    }
   ],
   "source": [
    "def swapWords(sen):\n",
    "    words = sen.count(\" \") + 1\n",
    "    if words < 2:\n",
    "        return False, sen\n",
    "    toSwap = random.randint(0, words-2)\n",
    "    wordList = sen.split()\n",
    "    tmp = wordList[toSwap]\n",
    "    wordList[toSwap] = wordList[toSwap+1]\n",
    "    wordList[toSwap+1] = tmp\n",
    "    res = \"\"\n",
    "    for x in wordList:\n",
    "        res += x + \" \"\n",
    "    return (not res.lower()==sen.lower()), res.lower()\n",
    "\n",
    "print(swapWords(\"Hello, what are you doing?\"))"
   ]
  },
  {
   "cell_type": "markdown",
   "metadata": {},
   "source": [
    "# Remove token"
   ]
  },
  {
   "cell_type": "code",
   "execution_count": 7,
   "metadata": {},
   "outputs": [
    {
     "name": "stdout",
     "output_type": "stream",
     "text": [
      "(True, 'hello, are you doing?')\n"
     ]
    }
   ],
   "source": [
    "def removeToken(sen):\n",
    "    toks = word_tokenize(sen.lower())\n",
    "    if len(toks) < 3:\n",
    "        return False, sen\n",
    "    indx = random.randrange(len(toks))\n",
    "    del toks[indx]\n",
    "    res = TreebankWordDetokenizer().detokenize(toks)\n",
    "    return (not res==sen.lower()), res\n",
    "\n",
    "print(removeToken(\"Hello, what are you doing?\"))"
   ]
  },
  {
   "cell_type": "markdown",
   "metadata": {},
   "source": [
    "# Add random word"
   ]
  },
  {
   "cell_type": "code",
   "execution_count": 8,
   "metadata": {},
   "outputs": [
    {
     "name": "stdout",
     "output_type": "stream",
     "text": [
      "(True, 'hello, what are you isoflor doing?')\n"
     ]
    }
   ],
   "source": [
    "def addRandomWord(sen):\n",
    "    toks = word_tokenize(sen.lower())\n",
    "    if len(toks) < 2:\n",
    "        return False, sen\n",
    "    indx = random.randrange(len(toks))\n",
    "    toks.insert(indx, r.get_random_word())\n",
    "    res = TreebankWordDetokenizer().detokenize(toks)\n",
    "    return (not res==sen.lower()), res\n",
    "\n",
    "print(addRandomWord(\"Hello, what are you doing?\"))"
   ]
  },
  {
   "cell_type": "markdown",
   "metadata": {},
   "source": [
    "# Duplicate token"
   ]
  },
  {
   "cell_type": "code",
   "execution_count": 9,
   "metadata": {},
   "outputs": [
    {
     "name": "stdout",
     "output_type": "stream",
     "text": [
      "(True, 'hello, what are are you doing?')\n"
     ]
    }
   ],
   "source": [
    "def duplicateToken(sen):\n",
    "    if len(sen) < 2:\n",
    "        return False, sen\n",
    "    toks = word_tokenize(sen.lower())\n",
    "    indx = random.randrange(len(toks))\n",
    "    word = toks[indx]\n",
    "    toks.insert(indx, word)\n",
    "    res = TreebankWordDetokenizer().detokenize(toks)\n",
    "    return (not res==sen.lower()), res\n",
    "\n",
    "print(duplicateToken(\"Hello, what are you doing?\"))"
   ]
  },
  {
   "cell_type": "markdown",
   "metadata": {},
   "source": [
    "# Character replacement"
   ]
  },
  {
   "cell_type": "code",
   "execution_count": 10,
   "metadata": {},
   "outputs": [
    {
     "name": "stdout",
     "output_type": "stream",
     "text": [
      "(True, 'Hello, what are youzdoing?')\n"
     ]
    }
   ],
   "source": [
    "def replaceCharacter(sen):\n",
    "    if len(sen) < 2:\n",
    "        return False, sen\n",
    "    lst = list(sen)\n",
    "    indx = random.randrange(len(lst))\n",
    "    lst[indx] = random.choice(\"abcdefghijklmnopqrstuvwxyz\")\n",
    "    res = \"\".join(lst)\n",
    "    return (not sen == res), res\n",
    "\n",
    "print(replaceCharacter(\"Hello, what are you doing?\"))"
   ]
  },
  {
   "cell_type": "markdown",
   "metadata": {},
   "source": [
    "# Character Duplication"
   ]
  },
  {
   "cell_type": "code",
   "execution_count": 11,
   "metadata": {},
   "outputs": [
    {
     "name": "stdout",
     "output_type": "stream",
     "text": [
      "(True, 'Hello, whaat are you doing?')\n"
     ]
    }
   ],
   "source": [
    "def duplicateCharacter(sen):\n",
    "    if len(sen) < 2:\n",
    "        return False, sen\n",
    "    lst = list(sen)\n",
    "    indx = random.randrange(len(lst))\n",
    "    lst.insert(indx, lst[indx])\n",
    "    res = \"\".join(lst)\n",
    "    return (not res==sen), res\n",
    "\n",
    "print(duplicateCharacter(\"Hello, what are you doing?\"))"
   ]
  },
  {
   "cell_type": "markdown",
   "metadata": {},
   "source": [
    "# Character Removal"
   ]
  },
  {
   "cell_type": "code",
   "execution_count": 12,
   "metadata": {},
   "outputs": [
    {
     "name": "stdout",
     "output_type": "stream",
     "text": [
      "(True, 'Hello, what are ou doing?')\n"
     ]
    }
   ],
   "source": [
    "def removeCharacter(sen):\n",
    "    if len(sen) < 2:\n",
    "        return False, sen\n",
    "    lst = list(sen)\n",
    "    indx = random.randrange(len(lst))\n",
    "    del lst[indx]\n",
    "    res = \"\".join(lst)\n",
    "    return (not res==sen), res\n",
    "\n",
    "print(removeCharacter(\"Hello, what are you doing?\"))"
   ]
  },
  {
   "cell_type": "markdown",
   "metadata": {},
   "source": [
    "# Character Swapping"
   ]
  },
  {
   "cell_type": "code",
   "execution_count": 13,
   "metadata": {},
   "outputs": [
    {
     "name": "stdout",
     "output_type": "stream",
     "text": [
      "(True, 'Hello, what arey ou doing?')\n"
     ]
    }
   ],
   "source": [
    "def swapCharacters(sen):\n",
    "    if len(sen) < 2:\n",
    "        return False, sen\n",
    "    lst = list(sen)\n",
    "    indx = random.randrange(len(lst)-1)\n",
    "    temp = lst[indx]\n",
    "    lst[indx] = lst[indx+1]\n",
    "    lst[indx+1] = temp\n",
    "    res = \"\".join(lst)\n",
    "    return (not res==sen), res\n",
    "\n",
    "print(swapCharacters(\"Hello, what are you doing?\"))"
   ]
  },
  {
   "cell_type": "markdown",
   "metadata": {},
   "source": [
    "# Negation"
   ]
  },
  {
   "cell_type": "code",
   "execution_count": 19,
   "metadata": {},
   "outputs": [
    {
     "name": "stdout",
     "output_type": "stream",
     "text": [
      "(True, 'hello, what are you doing?')\n"
     ]
    }
   ],
   "source": [
    "def negation(sen):\n",
    "    toks = word_tokenize(sen.lower())\n",
    "    index = []\n",
    "    new_toks = []\n",
    "    for i, tok in enumerate(toks):\n",
    "        if tok == \"not\":\n",
    "           index.append(i)\n",
    "    for i, tok in enumerate(toks):\n",
    "        if i not in index:\n",
    "            new_toks.append(tok)\n",
    "    res = TreebankWordDetokenizer().detokenize(new_toks)\n",
    "    return (not res==sen.lower()), res\n",
    "\n",
    "print(negation(\"Hello, what are you not doing?\"))"
   ]
  }
 ],
 "metadata": {
  "kernelspec": {
   "display_name": "LLM",
   "language": "python",
   "name": "python3"
  },
  "language_info": {
   "codemirror_mode": {
    "name": "ipython",
    "version": 3
   },
   "file_extension": ".py",
   "mimetype": "text/x-python",
   "name": "python",
   "nbconvert_exporter": "python",
   "pygments_lexer": "ipython3",
   "version": "3.11.5"
  }
 },
 "nbformat": 4,
 "nbformat_minor": 2
}
