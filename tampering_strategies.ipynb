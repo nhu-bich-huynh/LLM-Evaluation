{
 "cells": [
  {
   "cell_type": "markdown",
   "metadata": {},
   "source": [
    "# Tampering Strategies"
   ]
  },
  {
   "cell_type": "code",
   "execution_count": null,
   "metadata": {},
   "outputs": [],
   "source": [
    "# The code written in this file was written for the research project\n",
    "# with minor GAI assistance for trivial coding solutions to a minor degree"
   ]
  },
  {
   "cell_type": "markdown",
   "metadata": {},
   "source": [
    "### Load dependencies"
   ]
  },
  {
   "cell_type": "code",
   "execution_count": null,
   "metadata": {},
   "outputs": [],
   "source": [
    "import nltk\n",
    "import csv\n",
    "import random\n",
    "import numpy as np\n",
    "import time\n",
    "from google import genai\n",
    "import Levenshtein\n",
    "from random_word import RandomWords\n",
    "from collections import Counter\n",
    "from nltk.corpus import wordnet\n",
    "from nltk.tokenize.treebank import TreebankWordDetokenizer\n",
    "from nltk.util import ngrams\n",
    "from nltk.tokenize import word_tokenize\n",
    "from nltk.stem import SnowballStemmer\n",
    "import pandas\n",
    "from rouge import Rouge\n",
    "from nltk.translate.bleu_score import sentence_bleu\n",
    "from nltk import word_tokenize\n",
    "from nltk.translate import meteor\n",
    "nltk.download(\"punkt\")\n",
    "nltk.download('wordnet')\n",
    "nltk.download('punkt_tab')\n",
    "import string"
   ]
  },
  {
   "cell_type": "markdown",
   "metadata": {},
   "source": [
    "# Run these first"
   ]
  },
  {
   "cell_type": "code",
   "execution_count": null,
   "metadata": {},
   "outputs": [],
   "source": [
    "ord = word_tokenize(\"låse knække tvær privat skose ilt stimulus bynke pirat få hår ar pulse data føde virulent hofte skot rede sø væve for ravine pilsner kompetent manufaktur bimle strimmel heraldik grat fiks autarki kure garrotte svingle fætter beskeden die gæste drøje inkasso stunde sulfit Herning borte levre naver pedal factor kjole søle bikse mætte Rønne tysk gryn kærte flyde trods råge mager kambrium rynke logo hive honning mæske trave dug dårlig grund tribut rus handel lig kalve krable pelikan kravat sprælsk løjpe tue måle skaft plante refugie svip feste emalje kolloid gen vade stenografi ankel bånde sløse brint skide impuls menu rutte sago røge smult strø gnidsel drik hage stak fingre strejf fissil gestalte sukre vrå drejl gruse pjalt sladre baldrian gjaldre klukke såh trold flyve tazet musvit søbe bæk grafolog skalle føj bouclé jod kimære ego røbe slips elm firs sive havarti excellence lud smægte ilter vejre rusk stase kristne bål æde lykke kortisol klatte hylde bank paria hænde chateau gåde blotte litotes sprøjt nota tavs spyt smalte puge virolog salep gammen krebs falde kælke vippe angst pris smerte rafte hæge fnat føre Bramming skrible jubilar slig klore tres live tyst tumle sprut intakt på famle farisæer plette ol skænde minde kargo kitsch snorke blu floskel pamflet dekorum ditten fad metallurgi hungre plaf potentil melasse fod svigt klusil biocid folde foster hin Botswana Salling bruse spilde svinde spån pensle nyde rime viola klø koloni køje trakeotomi klynge polt mops kalorius bobine mistral burlesk byde bitte pris lede hulke riv lidse ridt finsk fritte kætter kommode tarok rinde lag periferi snippe finit hak fællig hu pastrami kahyt kvote ovn hutle zeta makulatur skræve skulke skovle patrulje visne sigma male nøkke pisse plumre galla brunst klæbe dranker huske dyb perifrase strejfe vanke dominant hu handske takle kolonne fjant observant valsk drøfte bunde næste fag ny sile verbal vinyl midje kir vånde sved skitse sprætte justits liv dryade satire sari canasta logge dele hænde trave skole skrå fenol adresse snubbe fiol hamle klima måne titte værke glans mikse krejle gafle aske drægtig topas trone komplot permanent glut servitut syssel dure gylpe fenyl difteri parasit sjæl snage veto gump græsse lade kanut replik nu prud sats fis regel palisade løs metyl moneter fart ål svigte stylte drikke faun rokade kollapse Jelling kaskade vrinsk sarkasme gane øst force mjav høj frister grant bøjle hale bap karse tapper bak hiv noppe oceanolog gære karbon Danmark kamille svovle lager ros pagt rock hej rå lemming kalk kuld pral tøffe skravl disk bor visk invalid skrige brik krage piraya tutte fantasme diva filter flintre styrte skuldre trusse binokular sværte slunken arabesk retræte smelte sinke tusch lipid flekse doble lyve svejse si poppe tjald balsam serviet ark tulle sæt stræb pande mås gnalling lur svinge stevnsk botanik svide slibe quisling vride vægt mask bid type havre drop dykke spinne passe sigte rabundus grissini planke fremme lux gazelle kollega spore glamme lange ælde lide rubrik rasle skimme mosle nat holdt hitte erindre viril maori mobil smæk gælde exe kran ende gemmolog rejse hyle Merkur id sinde glibe plesken bræge sniffe springe skur snobbe tyre blanke løsne emblematik tak prise fimse kneb simre verfe sang ragout pirol lampret skabe snakke lide stemple guttural krater medalje ski spydig vejle drosle dyb kræs briks skabe spange infarkt bakke sjavs hibiscus swing mokke svige fortynde trombone drop merian sko flette pryde kaliber hundse gjalde hvene akut diæter plet vrang brokke volt skjold charme stativ tvivle novice fjerne pløs mælk proppe vølve krukke nitrit cirrose hor plumpe stødt oppe franc pilaster fure pæl vink salut libertiner Prøjsen ajle torv pianino pile smakke palatal stadig merkantil deponi bulimi tude nitte over dysse vind naiv rask maltose sprød mulle dreje opak sæde klasse huldre ryge sekt flamme centre grøble tjans tynge knase jeremiade skrat slække vulkanolog lige pamper men konsilium vræle funkle pine skinger helle hævn strøg rim kemo øde centrum fals grammatik lut spat mør kapriol få ur krans ruin sin Milano skvætte marina tavle spot sitre dryppe hørme pode vært tun stramme facil skabiose kusk eje tinte mejsel trope glide skralde bulter dæksel servitrice hjul skryde se rysler kanonade skandale manna plakette dyk råd liste visum kommune sauna under bodega diabetes drue glæde drømme liguster knag hybrid grosserer oval tinde kateter zone bole lunde laps tætne debil piment harve flora løfte slynge bøvle gelejde støv så prompte tjalk huri bryozo peseta yver gøde lumske brasen ase kommen drone syge køle riviera kombinatorik etikette heppe kommando pift elev hede score knob tarif ditto promille fordakning terzine gul skrumpe koma tremolo dolke spidde knald bejdse stride plusse urdu takke vunde lyne læge statur snor arkade munter kny mange spin forte pøbel flet talent våde gnide koster zulu hingst reprise montrice stund blomme bauxit tragt lask flugt batte rage bramme grunde vænge katalog pro synftig varme pige kræve vams kabale domicil blod endokrin strø svastika værk skride tømme knogle vægte rase fortætte sund røsken lilje ranke grin tusk knyst vold bakse Mali dejse kime ræbe orne fjerte lysne ege rotte blomst mødding rive krumme asp benzol raspe pilaf tralle bekræfte toupé dement faktoid tut lind prale teori plus vippe sidst muræne rense skyr mose credo lunke gæk scripte blære cirkle strid stil vise løse tølt smykke pligt fjog skurv kælve okker tema batalje slendrian fenne valid pæn klumpe mester frodig passiar forsytia sande haspe facet nisse violet møller hæk emir kyrie lig snude banke pullimut nørkle svang friske musik ørred gak klimaks gæt inspektrice diurese tapir knitre jan fise glat mildne angre enke divisor ting lampet fuse kvæde spatel legation tre slat frynse fikse enklave gæv tit rær hel ild vånde zygote skolde slip boks bøde vægre hinke Lisboa myte analyse ortodoks telt sænk hjule himle træn domæne bylte maske hynde din spag kløgt spække stejle slæng cymbel vrage ranunkel kalla hellebard cirkel tejne grandezza nippe hæld strikke militær tretten vildt rakker bisam lude viol ose aspidistra fersken stritte absolut kollekt lak kravle snitte smide gønge vinde tremme klerk tviste tit mangle sejre strube monolit stakater glane\")"
   ]
  },
  {
   "cell_type": "code",
   "execution_count": null,
   "metadata": {},
   "outputs": [],
   "source": [
    "rouge = Rouge()\n",
    "r = RandomWords()\n",
    "punct = list(string.punctuation) + [\" \"]"
   ]
  },
  {
   "cell_type": "markdown",
   "metadata": {},
   "source": [
    "# Replace word with random word"
   ]
  },
  {
   "cell_type": "code",
   "execution_count": null,
   "metadata": {},
   "outputs": [],
   "source": [
    "def replaceWithRandomWord(sen, lan):\n",
    "    if lan == \"en\": randomWord = r.get_random_word()\n",
    "    elif lan == \"da\": randomWord = random.choice(ord)\n",
    "    toks = word_tokenize(sen.lower())\n",
    "    indx = random.randrange(len(toks))\n",
    "    count = 0\n",
    "    while toks[indx] in punct and count < 10000:\n",
    "        count += 1\n",
    "        indx = random.randrange(len(toks))\n",
    "    toks[indx] = randomWord\n",
    "    res = TreebankWordDetokenizer().detokenize(toks)\n",
    "    return (not res==sen.lower()), res"
   ]
  },
  {
   "cell_type": "markdown",
   "metadata": {},
   "source": [
    "# Swap Words"
   ]
  },
  {
   "cell_type": "code",
   "execution_count": null,
   "metadata": {},
   "outputs": [],
   "source": [
    "def swapWords(sen, lan):\n",
    "    words = sen.count(\" \") + 1\n",
    "    toSwap = random.randint(0, words-2)\n",
    "    wordList = sen.split()\n",
    "    tmp = wordList[toSwap]\n",
    "    wordList[toSwap] = wordList[toSwap+1]\n",
    "    wordList[toSwap+1] = tmp\n",
    "    res = \"\"\n",
    "    for x in wordList:\n",
    "        res += x + \" \"\n",
    "    return (not res.lower()==sen.lower()), res.lower()"
   ]
  },
  {
   "cell_type": "markdown",
   "metadata": {},
   "source": [
    "# Remove token"
   ]
  },
  {
   "cell_type": "code",
   "execution_count": null,
   "metadata": {},
   "outputs": [],
   "source": [
    "def removeToken(sen, lan):\n",
    "    toks = word_tokenize(sen.lower())\n",
    "    indx = random.randrange(len(toks))\n",
    "    count = 0\n",
    "    while toks[indx] in punct and count < 10000:\n",
    "        count += 1\n",
    "        indx = random.randrange(len(toks))\n",
    "    del toks[indx]\n",
    "    res = TreebankWordDetokenizer().detokenize(toks)\n",
    "    return (not res==sen.lower()), res"
   ]
  },
  {
   "cell_type": "markdown",
   "metadata": {},
   "source": [
    "# Add random word"
   ]
  },
  {
   "cell_type": "code",
   "execution_count": null,
   "metadata": {},
   "outputs": [],
   "source": [
    "def addRandomWord(sen, lan):\n",
    "    if lan == \"en\": randomWord = r.get_random_word()\n",
    "    elif lan == \"da\": randomWord = random.choice(ord)\n",
    "    toks = word_tokenize(sen.lower())\n",
    "    indx = random.randrange(len(toks))\n",
    "    toks.insert(indx, randomWord)\n",
    "    res = TreebankWordDetokenizer().detokenize(toks)\n",
    "    return (not res==sen.lower()), res"
   ]
  },
  {
   "cell_type": "markdown",
   "metadata": {},
   "source": [
    "# Duplicate token"
   ]
  },
  {
   "cell_type": "code",
   "execution_count": null,
   "metadata": {},
   "outputs": [],
   "source": [
    "def duplicateToken(sen, lan):\n",
    "    toks = word_tokenize(sen.lower())\n",
    "    indx = random.randrange(len(toks))\n",
    "    count = 0\n",
    "    while toks[indx] in punct and count < 10000:\n",
    "        count += 1\n",
    "        indx = random.randrange(len(toks))\n",
    "    word = toks[indx]\n",
    "    toks.insert(indx, word)\n",
    "    res = TreebankWordDetokenizer().detokenize(toks)\n",
    "    return (not res==sen.lower()), res"
   ]
  },
  {
   "cell_type": "markdown",
   "metadata": {},
   "source": [
    "# Character replacement"
   ]
  },
  {
   "cell_type": "code",
   "execution_count": null,
   "metadata": {},
   "outputs": [],
   "source": [
    "def replaceCharacter(sen, lan):\n",
    "    lst = list(sen)\n",
    "    indx = random.randrange(len(lst))\n",
    "    count = 0\n",
    "    repl = random.choice(\"abcdefghijklmnopqrstuvwxyz\")\n",
    "    if lan == \"da\": repl = random.choice(\"abcdefghijklmnopqrstuvwxyzæøå\")\n",
    "    while (lst[indx] in punct or repl == lst[indx]) and count < 10000:\n",
    "        count += 1\n",
    "        indx = random.randrange(len(lst))\n",
    "    lst[indx] = repl\n",
    "    res = \"\".join(lst)\n",
    "    return (not sen == res), res.lower()"
   ]
  },
  {
   "cell_type": "markdown",
   "metadata": {},
   "source": [
    "# Character Duplication"
   ]
  },
  {
   "cell_type": "code",
   "execution_count": null,
   "metadata": {},
   "outputs": [],
   "source": [
    "def duplicateCharacter(sen, lan):\n",
    "    lst = list(sen)\n",
    "    indx = random.randrange(len(lst))\n",
    "    count = 0\n",
    "    while lst[indx] in punct and count < 10000:\n",
    "        count += 1\n",
    "        indx = random.randrange(len(lst))\n",
    "    lst.insert(indx, lst[indx])\n",
    "    res = \"\".join(lst)\n",
    "    return (not res==sen), res"
   ]
  },
  {
   "cell_type": "markdown",
   "metadata": {},
   "source": [
    "# Character Removal"
   ]
  },
  {
   "cell_type": "code",
   "execution_count": null,
   "metadata": {},
   "outputs": [],
   "source": [
    "def removeCharacter(sen, lan):\n",
    "    lst = list(sen)\n",
    "    indx = random.randrange(len(lst))\n",
    "    count = 0\n",
    "    while lst[indx] in punct and count < 10000:\n",
    "        count += 1\n",
    "        indx = random.randrange(len(lst))\n",
    "    del lst[indx]\n",
    "    res = \"\".join(lst)\n",
    "    return (not res==sen), res"
   ]
  },
  {
   "cell_type": "markdown",
   "metadata": {},
   "source": [
    "# Character Swapping"
   ]
  },
  {
   "cell_type": "code",
   "execution_count": null,
   "metadata": {},
   "outputs": [],
   "source": [
    "def swapCharacters(sen, lan):\n",
    "    lst = list(sen)\n",
    "    indx = random.randrange(len(lst)-1)\n",
    "    count = 0\n",
    "    while (lst[indx] in punct or lst[indx+1] in punct or lst[indx] == lst[indx+1]) and count < 10000:\n",
    "        count += 1\n",
    "        indx = random.randrange(len(lst)-1)\n",
    "    temp = lst[indx]\n",
    "    lst[indx] = lst[indx+1]\n",
    "    lst[indx+1] = temp\n",
    "    res = \"\".join(lst)\n",
    "    return (not res==sen), res"
   ]
  },
  {
   "cell_type": "markdown",
   "metadata": {},
   "source": [
    "# Negation"
   ]
  },
  {
   "cell_type": "code",
   "execution_count": null,
   "metadata": {},
   "outputs": [],
   "source": [
    "def negation(sen, lan):\n",
    "    toks = word_tokenize(sen.lower())\n",
    "    if lan == \"en\": indx = [i for i, tok in enumerate(toks) if tok == \"not\"]\n",
    "    if lan == \"da\": indx = [i for i, tok in enumerate(toks) if tok == \"ikke\"]\n",
    "    toks = [tok for i, tok in enumerate(toks) if i not in indx]\n",
    "    res = TreebankWordDetokenizer().detokenize(toks)\n",
    "    return (not res==sen.lower()), res"
   ]
  }
 ],
 "metadata": {
  "kernelspec": {
   "display_name": "Python 3",
   "language": "python",
   "name": "python3"
  },
  "language_info": {
   "codemirror_mode": {
    "name": "ipython",
    "version": 3
   },
   "file_extension": ".py",
   "mimetype": "text/x-python",
   "name": "python",
   "nbconvert_exporter": "python",
   "pygments_lexer": "ipython3",
   "version": "3.11.0"
  }
 },
 "nbformat": 4,
 "nbformat_minor": 2
}
