{
 "cells": [
  {
   "cell_type": "markdown",
   "metadata": {},
   "source": [
    "# Tampering Strategies"
   ]
  },
  {
   "cell_type": "markdown",
   "metadata": {},
   "source": [
    "### Load dependencies"
   ]
  },
  {
   "cell_type": "code",
   "execution_count": null,
   "metadata": {},
   "outputs": [],
   "source": [
    "import nltk\n",
    "import csv\n",
    "import random\n",
    "import numpy as np\n",
    "import time\n",
    "from google import genai\n",
    "import Levenshtein\n",
    "from random_word import RandomWords\n",
    "from collections import Counter\n",
    "from nltk.corpus import wordnet\n",
    "from nltk.tokenize.treebank import TreebankWordDetokenizer\n",
    "from nltk.util import ngrams\n",
    "from nltk.tokenize import word_tokenize\n",
    "from nltk.stem import SnowballStemmer\n",
    "import pandas\n",
    "from rouge import Rouge\n",
    "from nltk.translate.bleu_score import sentence_bleu\n",
    "from nltk import word_tokenize\n",
    "from nltk.translate import meteor\n",
    "nltk.download(\"punkt\")\n",
    "nltk.download('wordnet')\n",
    "nltk.download('punkt_tab')"
   ]
  },
  {
   "cell_type": "markdown",
   "metadata": {},
   "source": [
    "# Create dataframes"
   ]
  },
  {
   "cell_type": "code",
   "execution_count": null,
   "metadata": {},
   "outputs": [],
   "source": [
    "# name = \"English\"\n",
    "\n",
    "# with open(\"../en.en\", \"r\", encoding=\"utf-8\") as f:\n",
    "#     for i in range(200):\n",
    "#         lines = [next(f).strip() for _ in range(10000)]\n",
    "#         df = pandas.DataFrame({\"Text\": lines})\n",
    "#         output_file = f\"dataframes/en/{name}{i+1}.csv\"\n",
    "#         df.to_csv(output_file, index=False, encoding=\"utf-8\", quoting=csv.QUOTE_ALL)\n",
    "\n",
    "# name = \"Danish\"\n",
    "\n",
    "# with open(\"../da.da\", \"r\", encoding=\"utf-8\") as f:\n",
    "#     for i in range(200):\n",
    "#         lines = [next(f).strip() for _ in range(10000)]\n",
    "#         df = pandas.DataFrame({\"Text\": lines})\n",
    "#         output_file = f\"dataframes/da/{name}{i+1}.csv\"\n",
    "#         df.to_csv(output_file, index=False, encoding=\"utf-8\", quoting=csv.QUOTE_ALL)\n",
    "\n",
    "\n",
    "# danishData = pandas.read_fwf(\"test.txt\", header=None, names=[\"test_sentences\"])\n",
    "# englishData = pandas.read_fwf(\"test.txt\", header=None, names=[\"test_sentences\"])"
   ]
  },
  {
   "cell_type": "markdown",
   "metadata": {},
   "source": [
    "# Replace token with random word"
   ]
  },
  {
   "cell_type": "code",
   "execution_count": null,
   "metadata": {},
   "outputs": [],
   "source": [
    "rouge = Rouge()\n",
    "r = RandomWords()"
   ]
  },
  {
   "cell_type": "code",
   "execution_count": null,
   "metadata": {},
   "outputs": [],
   "source": [
    "def replaceWithRandomWord(sen):\n",
    "    randomWord = r.get_random_word()\n",
    "    toks = word_tokenize(sen.lower())\n",
    "    if len(toks) < 2:\n",
    "        return False, sen\n",
    "    indx = random.randrange(len(toks))\n",
    "    toks[indx] = randomWord\n",
    "    res = TreebankWordDetokenizer().detokenize(toks)\n",
    "    return (not res==sen.lower()), res\n",
    "\n",
    "print(replaceWithRandomWord(\".\"))"
   ]
  },
  {
   "cell_type": "markdown",
   "metadata": {},
   "source": [
    "# Swap Words"
   ]
  },
  {
   "cell_type": "code",
   "execution_count": null,
   "metadata": {},
   "outputs": [],
   "source": [
    "def swapWords(sen):\n",
    "    words = sen.count(\" \") + 1\n",
    "    if words < 2:\n",
    "        return False, sen\n",
    "    toSwap = random.randint(0, words-2)\n",
    "    wordList = sen.split()\n",
    "    tmp = wordList[toSwap]\n",
    "    wordList[toSwap] = wordList[toSwap+1]\n",
    "    wordList[toSwap+1] = tmp\n",
    "    res = \"\"\n",
    "    for x in wordList:\n",
    "        res += x + \" \"\n",
    "    return (not res.lower()==sen.lower()), res.lower()\n",
    "\n",
    "print(swapWords(\"Hello, what are you doing?\"))"
   ]
  },
  {
   "cell_type": "markdown",
   "metadata": {},
   "source": [
    "# Remove token"
   ]
  },
  {
   "cell_type": "code",
   "execution_count": null,
   "metadata": {},
   "outputs": [],
   "source": [
    "def removeToken(sen):\n",
    "    toks = word_tokenize(sen.lower())\n",
    "    if len(toks) < 3:\n",
    "        return False, sen\n",
    "    indx = random.randrange(len(toks))\n",
    "    del toks[indx]\n",
    "    res = TreebankWordDetokenizer().detokenize(toks)\n",
    "    return (not res==sen.lower()), res\n",
    "\n",
    "print(removeToken(\"Hello.\"))"
   ]
  },
  {
   "cell_type": "markdown",
   "metadata": {},
   "source": [
    "# Add random word"
   ]
  },
  {
   "cell_type": "code",
   "execution_count": null,
   "metadata": {},
   "outputs": [],
   "source": [
    "def addRandomWord(sen):\n",
    "    toks = word_tokenize(sen.lower())\n",
    "    if len(toks) < 2:\n",
    "        return False, sen\n",
    "    indx = random.randrange(len(toks))\n",
    "    toks.insert(indx, r.get_random_word())\n",
    "    res = TreebankWordDetokenizer().detokenize(toks)\n",
    "    return (not res==sen.lower()), res\n",
    "\n",
    "print(addRandomWord(\"Hello, what are you doing?\"))"
   ]
  },
  {
   "cell_type": "markdown",
   "metadata": {},
   "source": [
    "# Duplicate token"
   ]
  },
  {
   "cell_type": "code",
   "execution_count": null,
   "metadata": {},
   "outputs": [],
   "source": [
    "def duplicateToken(sen):\n",
    "    if len(sen) < 2:\n",
    "        return False, sen\n",
    "    toks = word_tokenize(sen.lower())\n",
    "    indx = random.randrange(len(toks))\n",
    "    word = toks[indx]\n",
    "    toks.insert(indx, word)\n",
    "    res = TreebankWordDetokenizer().detokenize(toks)\n",
    "    return (not res==sen.lower()), res\n",
    "\n",
    "print(duplicateToken(\"Hello, what are you doing?\"))"
   ]
  },
  {
   "cell_type": "markdown",
   "metadata": {},
   "source": [
    "# Character replacement"
   ]
  },
  {
   "cell_type": "code",
   "execution_count": null,
   "metadata": {},
   "outputs": [],
   "source": [
    "def replaceCharacter(sen):\n",
    "    if len(sen) < 2:\n",
    "        return False, sen\n",
    "    lst = list(sen)\n",
    "    indx = random.randrange(len(lst))\n",
    "    lst[indx] = random.choice(\"abcdefghijklmnopqrstuvwxyz\")\n",
    "    res = \"\".join(lst)\n",
    "    return (not sen == res), res\n",
    "\n",
    "print(replaceCharacter(\"Hello, what are you doing?\"))"
   ]
  },
  {
   "cell_type": "markdown",
   "metadata": {},
   "source": [
    "# Character Duplication"
   ]
  },
  {
   "cell_type": "code",
   "execution_count": null,
   "metadata": {},
   "outputs": [],
   "source": [
    "def duplicateCharacter(sen):\n",
    "    if len(sen) < 2:\n",
    "        return False, sen\n",
    "    lst = list(sen)\n",
    "    indx = random.randrange(len(lst))\n",
    "    lst.insert(indx, lst[indx])\n",
    "    res = \"\".join(lst)\n",
    "    return (not res==sen), res\n",
    "\n",
    "print(duplicateCharacter(\"Hello, what are you doing?\"))"
   ]
  },
  {
   "cell_type": "markdown",
   "metadata": {},
   "source": [
    "# Character Removal"
   ]
  },
  {
   "cell_type": "code",
   "execution_count": null,
   "metadata": {},
   "outputs": [],
   "source": [
    "def removeCharacter(sen):\n",
    "    if len(sen) < 2:\n",
    "        return False, sen\n",
    "    lst = list(sen)\n",
    "    indx = random.randrange(len(lst))\n",
    "    del lst[indx]\n",
    "    res = \"\".join(lst)\n",
    "    return (not res==sen), res\n",
    "\n",
    "print(removeCharacter(\"Hello, what are you doing?\"))"
   ]
  },
  {
   "cell_type": "markdown",
   "metadata": {},
   "source": [
    "# Character Swapping"
   ]
  },
  {
   "cell_type": "code",
   "execution_count": null,
   "metadata": {},
   "outputs": [],
   "source": [
    "def swapCharacters(sen):\n",
    "    if len(sen) < 2:\n",
    "        return False, sen\n",
    "    lst = list(sen)\n",
    "    indx = random.randrange(len(lst)-1)\n",
    "    temp = lst[indx]\n",
    "    lst[indx] = lst[indx+1]\n",
    "    lst[indx+1] = temp\n",
    "    res = \"\".join(lst)\n",
    "    return (not res==sen), res\n",
    "\n",
    "print(swapCharacters(\"Hello, what are you doing?\"))"
   ]
  }
 ],
 "metadata": {
  "kernelspec": {
   "display_name": "LLM",
   "language": "python",
   "name": "python3"
  },
  "language_info": {
   "codemirror_mode": {
    "name": "ipython",
    "version": 3
   },
   "file_extension": ".py",
   "mimetype": "text/x-python",
   "name": "python",
   "nbconvert_exporter": "python",
   "pygments_lexer": "ipython3",
   "version": "3.11.5"
  }
 },
 "nbformat": 4,
 "nbformat_minor": 2
}
