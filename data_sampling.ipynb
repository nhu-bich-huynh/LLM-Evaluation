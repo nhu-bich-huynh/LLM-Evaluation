{
 "cells": [
  {
   "cell_type": "markdown",
   "metadata": {},
   "source": [
    "# Data Sampling"
   ]
  },
  {
   "cell_type": "code",
   "execution_count": 1,
   "metadata": {},
   "outputs": [
    {
     "name": "stderr",
     "output_type": "stream",
     "text": [
      "[nltk_data] Downloading package punkt to\n",
      "[nltk_data]     C:\\Users\\oskar\\AppData\\Roaming\\nltk_data...\n",
      "[nltk_data]   Package punkt is already up-to-date!\n",
      "[nltk_data] Downloading package wordnet to\n",
      "[nltk_data]     C:\\Users\\oskar\\AppData\\Roaming\\nltk_data...\n",
      "[nltk_data]   Package wordnet is already up-to-date!\n",
      "[nltk_data] Downloading package punkt_tab to\n",
      "[nltk_data]     C:\\Users\\oskar\\AppData\\Roaming\\nltk_data...\n",
      "[nltk_data]   Package punkt_tab is already up-to-date!\n"
     ]
    }
   ],
   "source": [
    "import nltk\n",
    "import csv\n",
    "import random\n",
    "import numpy as np\n",
    "import time\n",
    "from google import genai\n",
    "import Levenshtein\n",
    "from random_word import RandomWords\n",
    "from collections import Counter\n",
    "from nltk.corpus import wordnet\n",
    "from nltk.tokenize.treebank import TreebankWordDetokenizer\n",
    "from nltk.util import ngrams\n",
    "from nltk.tokenize import word_tokenize\n",
    "from nltk.stem import SnowballStemmer\n",
    "import pandas as pd\n",
    "from rouge import Rouge\n",
    "from nltk.translate.bleu_score import sentence_bleu\n",
    "from nltk import word_tokenize\n",
    "from nltk.translate import meteor\n",
    "nltk.download(\"punkt\")\n",
    "nltk.download('wordnet')\n",
    "nltk.download('punkt_tab')\n",
    "import string"
   ]
  },
  {
   "cell_type": "markdown",
   "metadata": {},
   "source": [
    "# Run This First"
   ]
  },
  {
   "cell_type": "code",
   "execution_count": 2,
   "metadata": {},
   "outputs": [],
   "source": [
    "punct = list(string.punctuation) + [\" \"]"
   ]
  },
  {
   "cell_type": "markdown",
   "metadata": {},
   "source": [
    "# Check Sentence Length"
   ]
  },
  {
   "cell_type": "code",
   "execution_count": 3,
   "metadata": {},
   "outputs": [],
   "source": [
    "def correctSenLength(sen):\n",
    "    if not isinstance(sen, list):\n",
    "        raise TypeError(\"Length check must be done on token list!\")\n",
    "    senP = [x for x in sen if x not in punct]\n",
    "    length = len(senP)\n",
    "    if length < 5 or length > 40:\n",
    "        return False\n",
    "    else:\n",
    "        return True"
   ]
  },
  {
   "cell_type": "markdown",
   "metadata": {},
   "source": [
    "# Get negatable indeces"
   ]
  },
  {
   "cell_type": "code",
   "execution_count": 18,
   "metadata": {},
   "outputs": [],
   "source": [
    "def negationIndeces(file_path, lan):\n",
    "    res = []\n",
    "    df = pd.read_csv(file_path, encoding='utf-8')\n",
    "    for index, row in df.iterrows():\n",
    "            sentence = row[\"Text\"]\n",
    "            tokens = word_tokenize(sentence.lower())\n",
    "            if lan == \"en\" and (\"not\" in tokens and correctSenLength(tokens)):\n",
    "                res.append(index)\n",
    "            elif lan == \"da\" and (\"ikke\" in tokens and correctSenLength(tokens)):\n",
    "                res.append(index)\n",
    "    return res"
   ]
  },
  {
   "cell_type": "markdown",
   "metadata": {},
   "source": [
    "# Get indeces of correct length"
   ]
  },
  {
   "cell_type": "code",
   "execution_count": 19,
   "metadata": {},
   "outputs": [],
   "source": [
    "def properLengthIndeces(filePath):\n",
    "    res = []\n",
    "    df = pd.read_csv(filePath, encoding='utf-8')\n",
    "    for index, row in df.iterrows():\n",
    "            sentence = row[\"Text\"]\n",
    "            tokens = word_tokenize(sentence.lower())\n",
    "            if correctSenLength(tokens):\n",
    "                res.append(index)\n",
    "    return res"
   ]
  },
  {
   "cell_type": "markdown",
   "metadata": {},
   "source": [
    "# Sample Random Indeces"
   ]
  },
  {
   "cell_type": "code",
   "execution_count": 20,
   "metadata": {},
   "outputs": [],
   "source": [
    "def getXRandomIndeces(x, cand):\n",
    "    return sorted(random.sample(cand, x))"
   ]
  },
  {
   "cell_type": "markdown",
   "metadata": {},
   "source": [
    "# Create Bins By Length"
   ]
  },
  {
   "cell_type": "code",
   "execution_count": null,
   "metadata": {},
   "outputs": [
    {
     "name": "stdout",
     "output_type": "stream",
     "text": [
      "min 4\n",
      "max 41\n"
     ]
    }
   ],
   "source": [
    "import pandas as pd\n",
    "import numpy as np\n",
    "\n",
    "file = pd.read_csv(\"final_output/combinedOutput_cleaned.csv\")\n",
    "\n",
    "def findLength(sen):\n",
    "    senTok = word_tokenize(sen)\n",
    "    senP = [x for x in senTok if x not in punct]\n",
    "    length = len(senP)\n",
    "    return length\n",
    "\n",
    "file[\"computed_value\"] = file[\"tamperedSentence\"].apply(findLength)\n",
    "\n",
    "min = file[\"computed_value\"].min()\n",
    "max = file[\"computed_value\"].max()\n",
    "print(\"min\", min)\n",
    "print(\"max\", max)\n",
    "\n",
    "bin_edges = np.linspace(min, max + 1, num=11, dtype=int)  # +1 to include max\n",
    "file[\"bin\"] = pd.cut(\n",
    "    file[\"computed_value\"],\n",
    "    bins=bin_edges,\n",
    "    labels=False,\n",
    "    right=False,\n",
    "    include_lowest=True\n",
    ")\n",
    "\n",
    "for i in range(10):\n",
    "    bin_df = file[file[\"bin\"] == i].drop(columns=[\"computed_value\", \"bin\"])\n",
    "    bin_df.to_csv(f\"./bins/output_bin_{i + 1}.csv\", index=False)\n"
   ]
  },
  {
   "cell_type": "code",
   "execution_count": 8,
   "metadata": {},
   "outputs": [
    {
     "name": "stdout",
     "output_type": "stream",
     "text": [
      "[ 4  7 11 15 19 23 26 30 34 38 42]\n"
     ]
    }
   ],
   "source": [
    "print(np.linspace(min, max + 1, num=11, dtype=int))"
   ]
  }
 ],
 "metadata": {
  "kernelspec": {
   "display_name": "Python 3",
   "language": "python",
   "name": "python3"
  },
  "language_info": {
   "codemirror_mode": {
    "name": "ipython",
    "version": 3
   },
   "file_extension": ".py",
   "mimetype": "text/x-python",
   "name": "python",
   "nbconvert_exporter": "python",
   "pygments_lexer": "ipython3",
   "version": "3.11.0"
  }
 },
 "nbformat": 4,
 "nbformat_minor": 2
}
