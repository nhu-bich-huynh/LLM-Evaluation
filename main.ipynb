{
 "cells": [
  {
   "cell_type": "markdown",
   "metadata": {},
   "source": [
    "# Language Generation Evaluation"
   ]
  },
  {
   "cell_type": "markdown",
   "metadata": {},
   "source": [
    "### Analysis of the Europarl Dataset"
   ]
  },
  {
   "cell_type": "code",
   "execution_count": 1,
   "metadata": {},
   "outputs": [
    {
     "name": "stderr",
     "output_type": "stream",
     "text": [
      "[nltk_data] Downloading package punkt to\n",
      "[nltk_data]     C:\\Users\\oskar\\AppData\\Roaming\\nltk_data...\n",
      "[nltk_data]   Package punkt is already up-to-date!\n"
     ]
    },
    {
     "data": {
      "text/plain": [
       "True"
      ]
     },
     "execution_count": 1,
     "metadata": {},
     "output_type": "execute_result"
    }
   ],
   "source": [
    "import nltk\n",
    "import csv\n",
    "import numpy as np\n",
    "import Levenshtein\n",
    "from collections import Counter\n",
    "from nltk.util import ngrams\n",
    "from nltk.tokenize import word_tokenize\n",
    "from nltk.stem import SnowballStemmer\n",
    "import pandas\n",
    "nltk.download(\"punkt\")"
   ]
  },
  {
   "cell_type": "code",
   "execution_count": 2,
   "metadata": {},
   "outputs": [],
   "source": [
    "# # Load the dataset\n",
    "# def load_data(danish_file, english_file):\n",
    "#     with open(danish_file, \"r\", encoding=\"utf-8\") as f_da, open(english_file, \"r\", encoding=\"utf-8\") as f_en:\n",
    "#         danish_sentences = [line.strip() for line in f_da.readlines()]\n",
    "#         english_sentences = [line.strip() for line in f_en.readlines()]\n",
    "#     return danish_sentences, english_sentences\n",
    "\n",
    "# danish_sentences, english_sentences = load_data(\"../da.da\", \"../en.en\")\n",
    "\n",
    "# # Tokenization\n",
    "# danish_tokens = [word_tokenize(sent.lower()) for sent in danish_sentences]\n",
    "# english_tokens = [word_tokenize(sent.lower()) for sent in english_sentences]\n",
    "\n",
    "# # Flatten lists for word statistics\n",
    "# danish_words = [word for sent in danish_tokens for word in sent]\n",
    "# english_words = [word for sent in english_tokens for word in sent]\n",
    "\n"
   ]
  },
  {
   "cell_type": "code",
   "execution_count": 3,
   "metadata": {},
   "outputs": [],
   "source": [
    "# num_sentences_da = len(danish_sentences)\n",
    "# num_sentences_en = len(english_sentences)\n",
    "\n",
    "# num_words_da = len(danish_words)\n",
    "# num_words_en = len(english_words)\n",
    "\n",
    "# unique_words_da = len(set(danish_words))\n",
    "# unique_words_en = len(set(english_words))\n",
    "\n",
    "# ttr_da = unique_words_da / num_words_da * 100\n",
    "# ttr_en = unique_words_en / num_words_en * 100\n",
    "\n",
    "# avg_length_da = np.mean([len(sent) for sent in danish_tokens])\n",
    "# avg_length_en = np.mean([len(sent) for sent in english_tokens])\n",
    "\n",
    "# std_length_da = np.std([len(sent) for sent in danish_tokens])\n",
    "# std_length_en = np.std([len(sent) for sent in english_tokens])\n",
    "\n",
    "# min_length_da = np.min([len(sent) for sent in danish_tokens])\n",
    "# min_length_en = np.min([len(sent) for sent in english_tokens])\n",
    "\n",
    "# max_length_da = np.max([len(sent) for sent in danish_tokens])\n",
    "# max_length_en = np.max([len(sent) for sent in english_tokens])\n",
    "\n",
    "# sentence_length_ratio = avg_length_da / avg_length_en \n",
    "\n",
    "# print(f\"Total Sentences: Danish = {num_sentences_da}, English = {num_sentences_en}\")\n",
    "# print(f\"Total Words: Danish = {num_words_da}, English = {num_words_en}\")\n",
    "# print(f\"Unique Words: Danish = {unique_words_da}, English = {unique_words_en}\")\n",
    "# print(f\"Type-Token Ratio: Danish = {ttr_da:.2f}%, English = {ttr_en:.2f}%\")\n",
    "# print(f\"Avg. Sentence Length: Danish = {avg_length_da:.2f}, English = {avg_length_en:.2f}\")\n",
    "# print(f\"Std Dev Sentence Length: Danish = {std_length_da:.2f}, English = {std_length_en:.2f}\")\n",
    "# print(f\"Sentence Length Ratio (DA/EN): {sentence_length_ratio:.2f}\")\n",
    "# print(f\"Min sentence length (DA/EN): Danish = {min_length_da}, English = {min_length_en}\")\n",
    "# print(f\"Max sentence length (DA/EN): Danish = {max_length_da}, English = {max_length_en}\")"
   ]
  },
  {
   "cell_type": "markdown",
   "metadata": {},
   "source": [
    "# Create dataframes"
   ]
  },
  {
   "cell_type": "code",
   "execution_count": 4,
   "metadata": {},
   "outputs": [],
   "source": [
    "# name = \"English\"\n",
    "\n",
    "# with open(\"../en.en\", \"r\", encoding=\"utf-8\") as f:\n",
    "#     for i in range(200):\n",
    "#         lines = [next(f).strip() for _ in range(10000)]\n",
    "#         df = pandas.DataFrame({\"Text\": lines})\n",
    "#         output_file = f\"dataframes/en/{name}{i+1}.csv\"\n",
    "#         df.to_csv(output_file, index=False, encoding=\"utf-8\", quoting=csv.QUOTE_ALL)\n",
    "\n",
    "# name = \"Danish\"\n",
    "\n",
    "# with open(\"../da.da\", \"r\", encoding=\"utf-8\") as f:\n",
    "#     for i in range(200):\n",
    "#         lines = [next(f).strip() for _ in range(10000)]\n",
    "#         df = pandas.DataFrame({\"Text\": lines})\n",
    "#         output_file = f\"dataframes/da/{name}{i+1}.csv\"\n",
    "#         df.to_csv(output_file, index=False, encoding=\"utf-8\", quoting=csv.QUOTE_ALL)\n",
    "\n",
    "\n",
    "# danishData = pandas.read_fwf(\"test.txt\", header=None, names=[\"test_sentences\"])\n",
    "# englishData = pandas.read_fwf(\"test.txt\", header=None, names=[\"test_sentences\"])"
   ]
  },
  {
   "cell_type": "markdown",
   "metadata": {},
   "source": [
    "### Load dependencies (First, look at README)"
   ]
  },
  {
   "cell_type": "code",
   "execution_count": 5,
   "metadata": {},
   "outputs": [
    {
     "name": "stderr",
     "output_type": "stream",
     "text": [
      "[nltk_data] Downloading package wordnet to\n",
      "[nltk_data]     C:\\Users\\oskar\\AppData\\Roaming\\nltk_data...\n",
      "[nltk_data]   Package wordnet is already up-to-date!\n",
      "[nltk_data] Downloading package punkt_tab to\n",
      "[nltk_data]     C:\\Users\\oskar\\AppData\\Roaming\\nltk_data...\n",
      "[nltk_data]   Package punkt_tab is already up-to-date!\n"
     ]
    },
    {
     "data": {
      "text/plain": [
       "True"
      ]
     },
     "execution_count": 5,
     "metadata": {},
     "output_type": "execute_result"
    }
   ],
   "source": [
    "from rouge import Rouge\n",
    "from nltk.translate.bleu_score import sentence_bleu\n",
    "from nltk import word_tokenize\n",
    "from nltk.translate import meteor\n",
    "import nltk\n",
    "nltk.download('wordnet')\n",
    "nltk.download('punkt_tab')"
   ]
  },
  {
   "cell_type": "markdown",
   "metadata": {},
   "source": [
    "### Define functions"
   ]
  },
  {
   "cell_type": "code",
   "execution_count": 6,
   "metadata": {},
   "outputs": [],
   "source": [
    "rouge = Rouge()\n",
    "\n",
    "def calculate_rouge(candidate, reference):\n",
    "    scores = rouge.get_scores(candidate, reference)\n",
    "    return scores\n",
    "\n",
    "def calculate_bleu(candidate, reference):\n",
    "    reference_p = [word_tokenize(reference)]\n",
    "    candidate_p = word_tokenize(candidate)\n",
    "    score = sentence_bleu(reference_p, candidate_p)\n",
    "    return score\n",
    "\n",
    "def calculate_meteor(candidate, reference):\n",
    "  reference = word_tokenize(reference)\n",
    "  candidate = word_tokenize(candidate)\n",
    "  meteor_score = round(meteor([candidate],reference), 4)\n",
    "  return meteor_score"
   ]
  },
  {
   "cell_type": "markdown",
   "metadata": {},
   "source": [
    "### Perform Rouge test"
   ]
  },
  {
   "cell_type": "code",
   "execution_count": 7,
   "metadata": {},
   "outputs": [],
   "source": [
    "#print(calculate_rouge(chatGptTrans, proTrans))"
   ]
  },
  {
   "cell_type": "markdown",
   "metadata": {},
   "source": [
    "### Perform BLEU test"
   ]
  },
  {
   "cell_type": "code",
   "execution_count": 8,
   "metadata": {},
   "outputs": [],
   "source": [
    "#print(calculate_bleu(chatGptTrans, proTrans))"
   ]
  },
  {
   "cell_type": "markdown",
   "metadata": {},
   "source": [
    "### Perform METEOR test"
   ]
  },
  {
   "cell_type": "code",
   "execution_count": 9,
   "metadata": {},
   "outputs": [],
   "source": [
    "#print(calculate_meteor(chatGptTrans, proTrans))"
   ]
  },
  {
   "cell_type": "markdown",
   "metadata": {},
   "source": [
    "# Replace with synonym"
   ]
  },
  {
   "cell_type": "code",
   "execution_count": 10,
   "metadata": {},
   "outputs": [
    {
     "ename": "NameError",
     "evalue": "name 'wordnet' is not defined",
     "output_type": "error",
     "traceback": [
      "\u001b[1;31m---------------------------------------------------------------------------\u001b[0m",
      "\u001b[1;31mNameError\u001b[0m                                 Traceback (most recent call last)",
      "Cell \u001b[1;32mIn[10], line 9\u001b[0m\n\u001b[0;32m      5\u001b[0m             res\u001b[38;5;241m.\u001b[39mappend(y\u001b[38;5;241m.\u001b[39mreplace(\u001b[38;5;124m\"\u001b[39m\u001b[38;5;124m_\u001b[39m\u001b[38;5;124m\"\u001b[39m, \u001b[38;5;124m\"\u001b[39m\u001b[38;5;124m \u001b[39m\u001b[38;5;124m\"\u001b[39m))\n\u001b[0;32m      7\u001b[0m     \u001b[38;5;28;01mreturn\u001b[39;00m \u001b[38;5;28mlist\u001b[39m(\u001b[38;5;28mset\u001b[39m(res))\n\u001b[1;32m----> 9\u001b[0m \u001b[38;5;28mprint\u001b[39m(\u001b[43mfindSynonyms\u001b[49m\u001b[43m(\u001b[49m\u001b[38;5;124;43m\"\u001b[39;49m\u001b[38;5;124;43mchair\u001b[39;49m\u001b[38;5;124;43m\"\u001b[39;49m\u001b[43m)\u001b[49m)\n",
      "Cell \u001b[1;32mIn[10], line 3\u001b[0m, in \u001b[0;36mfindSynonyms\u001b[1;34m(w)\u001b[0m\n\u001b[0;32m      1\u001b[0m \u001b[38;5;28;01mdef\u001b[39;00m \u001b[38;5;21mfindSynonyms\u001b[39m(w):\n\u001b[0;32m      2\u001b[0m     res \u001b[38;5;241m=\u001b[39m []\n\u001b[1;32m----> 3\u001b[0m     \u001b[38;5;28;01mfor\u001b[39;00m x \u001b[38;5;129;01min\u001b[39;00m \u001b[43mwordnet\u001b[49m\u001b[38;5;241m.\u001b[39msynsets(w):\n\u001b[0;32m      4\u001b[0m         \u001b[38;5;28;01mfor\u001b[39;00m y \u001b[38;5;129;01min\u001b[39;00m x\u001b[38;5;241m.\u001b[39mlemma_names():\n\u001b[0;32m      5\u001b[0m             res\u001b[38;5;241m.\u001b[39mappend(y\u001b[38;5;241m.\u001b[39mreplace(\u001b[38;5;124m\"\u001b[39m\u001b[38;5;124m_\u001b[39m\u001b[38;5;124m\"\u001b[39m, \u001b[38;5;124m\"\u001b[39m\u001b[38;5;124m \u001b[39m\u001b[38;5;124m\"\u001b[39m))\n",
      "\u001b[1;31mNameError\u001b[0m: name 'wordnet' is not defined"
     ]
    }
   ],
   "source": [
    "def findSynonyms(w):\n",
    "    res = []\n",
    "    for x in wordnet.synsets(w):\n",
    "        for y in x.lemma_names():\n",
    "            res.append(y.replace(\"_\", \" \"))\n",
    "    \n",
    "    return list(set(res))\n",
    "\n",
    "print(findSynonyms(\"chair\"))"
   ]
  }
 ],
 "metadata": {
  "kernelspec": {
   "display_name": "Python 3",
   "language": "python",
   "name": "python3"
  },
  "language_info": {
   "codemirror_mode": {
    "name": "ipython",
    "version": 3
   },
   "file_extension": ".py",
   "mimetype": "text/x-python",
   "name": "python",
   "nbconvert_exporter": "python",
   "pygments_lexer": "ipython3",
   "version": "3.12.5"
  }
 },
 "nbformat": 4,
 "nbformat_minor": 2
}
