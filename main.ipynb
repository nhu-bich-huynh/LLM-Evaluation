{
 "cells": [
  {
   "cell_type": "markdown",
   "metadata": {},
   "source": [
    "# Language Generation Evaluation"
   ]
  },
  {
   "cell_type": "markdown",
   "metadata": {},
   "source": [
    "### Analysis of the Europarl Dataset"
   ]
  },
  {
   "cell_type": "code",
   "execution_count": null,
   "metadata": {},
   "outputs": [],
   "source": [
    "import nltk\n",
    "import numpy as np\n",
    "import Levenshtein\n",
    "from collections import Counter\n",
    "from nltk.util import ngrams\n",
    "from nltk.tokenize import word_tokenize\n",
    "from nltk.stem import SnowballStemmer\n",
    "nltk.download(\"punkt\")"
   ]
  },
  {
   "cell_type": "code",
   "execution_count": null,
   "metadata": {},
   "outputs": [],
   "source": [
    "# Load the dataset\n",
    "def load_data(danish_file, english_file):\n",
    "    with open(danish_file, \"r\", encoding=\"utf-8\") as f_da, open(english_file, \"r\", encoding=\"utf-8\") as f_en:\n",
    "        danish_sentences = [line.strip() for line in f_da.readlines()]\n",
    "        english_sentences = [line.strip() for line in f_en.readlines()]\n",
    "    return danish_sentences, english_sentences\n",
    "\n",
    "danish_sentences, english_sentences = load_data(\"da-en/europarl-v7.da-en.da\", \"da-en/europarl-v7.da-en.en\") # update the path to your files\n",
    "\n",
    "# Tokenization\n",
    "danish_tokens = [word_tokenize(sent.lower()) for sent in danish_sentences]\n",
    "english_tokens = [word_tokenize(sent.lower()) for sent in english_sentences]\n",
    "\n",
    "# Flatten lists for word statistics\n",
    "danish_words = [word for sent in danish_tokens for word in sent]\n",
    "english_words = [word for sent in english_tokens for word in sent]\n",
    "\n"
   ]
  },
  {
   "cell_type": "code",
   "execution_count": null,
   "metadata": {},
   "outputs": [],
   "source": [
    "num_sentences_da = len(danish_sentences)\n",
    "num_sentences_en = len(english_sentences)\n",
    "\n",
    "num_words_da = len(danish_words)\n",
    "num_words_en = len(english_words)\n",
    "\n",
    "unique_words_da = len(set(danish_words))\n",
    "unique_words_en = len(set(english_words))\n",
    "\n",
    "ttr_da = unique_words_da / num_words_da * 100\n",
    "ttr_en = unique_words_en / num_words_en * 100\n",
    "\n",
    "avg_length_da = np.mean([len(sent) for sent in danish_tokens])\n",
    "avg_length_en = np.mean([len(sent) for sent in english_tokens])\n",
    "\n",
    "std_length_da = np.std([len(sent) for sent in danish_tokens])\n",
    "std_length_en = np.std([len(sent) for sent in english_tokens])\n",
    "\n",
    "sentence_length_ratio = avg_length_da / avg_length_en \n",
    "\n",
    "print(f\"Total Sentences: Danish = {num_sentences_da}, English = {num_sentences_en}\")\n",
    "print(f\"Total Words: Danish = {num_words_da}, English = {num_words_en}\")\n",
    "print(f\"Unique Words: Danish = {unique_words_da}, English = {unique_words_en}\")\n",
    "print(f\"Type-Token Ratio: Danish = {ttr_da:.2f}%, English = {ttr_en:.2f}%\")\n",
    "print(f\"Avg. Sentence Length: Danish = {avg_length_da:.2f}, English = {avg_length_en:.2f}\")\n",
    "print(f\"Std Dev Sentence Length: Danish = {std_length_da:.2f}, English = {std_length_en:.2f}\")\n",
    "print(f\"Sentence Length Ratio (DA/EN): {sentence_length_ratio:.2f}\")"
   ]
  },
  {
   "cell_type": "code",
   "execution_count": null,
   "metadata": {},
   "outputs": [],
   "source": [
    "# Out-of-Vocabulary (OOV) Rate\n",
    "def oov_rate(words, vocabulary):\n",
    "    return sum(1 for word in words if word not in vocabulary) / len(words) * 100 if words else 0\n",
    "\n",
    "vocab_da = set(danish_words[:5000])  # Using first 5000 words as a basic vocabulary???\n",
    "vocab_en = set(english_words[:5000])\n",
    "\n",
    "oov_danish = oov_rate(danish_words, vocab_da)\n",
    "oov_english = oov_rate(english_words, vocab_en)\n",
    "\n",
    "print(f\"OOV Rate (Danish): {oov_danish:.2f}%\")\n",
    "print(f\"OOV Rate (English): {oov_english:.2f}%\")"
   ]
  },
  {
   "cell_type": "markdown",
   "metadata": {},
   "source": [
    "### Load dependencies (First, look at README)"
   ]
  },
  {
   "cell_type": "code",
   "execution_count": null,
   "metadata": {},
   "outputs": [],
   "source": [
    "from rouge import Rouge\n",
    "from nltk.translate.bleu_score import sentence_bleu\n",
    "from nltk import word_tokenize\n",
    "from nltk.translate import meteor\n",
    "import nltk\n",
    "nltk.download('wordnet')\n",
    "nltk.download('punkt_tab')"
   ]
  },
  {
   "cell_type": "markdown",
   "metadata": {},
   "source": [
    "### Define functions"
   ]
  },
  {
   "cell_type": "code",
   "execution_count": null,
   "metadata": {},
   "outputs": [],
   "source": [
    "rouge = Rouge()\n",
    "\n",
    "def calculate_rouge(candidate, reference):\n",
    "    scores = rouge.get_scores(candidate, reference)\n",
    "    return scores\n",
    "\n",
    "def calculate_bleu(candidate, reference):\n",
    "    reference_p = [word_tokenize(reference)]\n",
    "    candidate_p = word_tokenize(candidate)\n",
    "    score = sentence_bleu(reference_p, candidate_p)\n",
    "    return score\n",
    "\n",
    "def calculate_meteor(candidate, reference):\n",
    "  reference = word_tokenize(reference)\n",
    "  candidate = word_tokenize(candidate)\n",
    "  meteor_score = round(meteor([candidate],reference), 4)\n",
    "  return meteor_score"
   ]
  },
  {
   "cell_type": "markdown",
   "metadata": {},
   "source": [
    "### Load translation input"
   ]
  },
  {
   "cell_type": "code",
   "execution_count": null,
   "metadata": {},
   "outputs": [],
   "source": [
    "# Load the professional translation of sentence 1-27\n",
    "with open(\"europarl-v7.da-en.da\", \"r\", encoding=\"utf-8\") as file:\n",
    "    proTrans = \"\".join([next(file) for _ in range(27)])\n",
    "\n",
    "# Load the ChatGPT translation of sentence 1-27\n",
    "with open(\"ChatgptEnglishToDanish.txt\", \"r\", encoding=\"utf-8\") as file:\n",
    "    chatGptTrans = \"\".join([next(file) for _ in range(27)])"
   ]
  },
  {
   "cell_type": "markdown",
   "metadata": {},
   "source": [
    "### Perform Rouge test"
   ]
  },
  {
   "cell_type": "code",
   "execution_count": null,
   "metadata": {},
   "outputs": [],
   "source": [
    "print(calculate_rouge(chatGptTrans, proTrans))"
   ]
  },
  {
   "cell_type": "markdown",
   "metadata": {},
   "source": [
    "### Perform BLEU test"
   ]
  },
  {
   "cell_type": "code",
   "execution_count": null,
   "metadata": {},
   "outputs": [],
   "source": [
    "print(calculate_bleu(chatGptTrans, proTrans))"
   ]
  },
  {
   "cell_type": "markdown",
   "metadata": {},
   "source": [
    "### Perform METEOR test"
   ]
  },
  {
   "cell_type": "code",
   "execution_count": null,
   "metadata": {},
   "outputs": [],
   "source": [
    "print(calculate_meteor(chatGptTrans, proTrans))"
   ]
  }
 ],
 "metadata": {
  "kernelspec": {
   "display_name": "LLM",
   "language": "python",
   "name": "python3"
  },
  "language_info": {
   "codemirror_mode": {
    "name": "ipython",
    "version": 3
   },
   "file_extension": ".py",
   "mimetype": "text/x-python",
   "name": "python",
   "nbconvert_exporter": "python",
   "pygments_lexer": "ipython3",
   "version": "3.11.5"
  }
 },
 "nbformat": 4,
 "nbformat_minor": 2
}
