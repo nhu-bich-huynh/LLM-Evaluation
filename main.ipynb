{
 "cells": [
  {
   "cell_type": "markdown",
   "metadata": {},
   "source": [
    "# Language Generation Evaluation"
   ]
  },
  {
   "cell_type": "markdown",
   "metadata": {},
   "source": [
    "### Analysis of the Europarl Dataset"
   ]
  },
  {
   "cell_type": "code",
   "execution_count": 226,
   "metadata": {},
   "outputs": [
    {
     "name": "stderr",
     "output_type": "stream",
     "text": [
      "[nltk_data] Downloading package punkt to\n",
      "[nltk_data]     C:\\Users\\oskar\\AppData\\Roaming\\nltk_data...\n",
      "[nltk_data]   Package punkt is already up-to-date!\n"
     ]
    },
    {
     "data": {
      "text/plain": [
       "True"
      ]
     },
     "execution_count": 226,
     "metadata": {},
     "output_type": "execute_result"
    }
   ],
   "source": [
    "import nltk\n",
    "import csv\n",
    "import random\n",
    "import numpy as np\n",
    "import Levenshtein\n",
    "from random_word import RandomWords\n",
    "from collections import Counter\n",
    "from nltk.corpus import wordnet\n",
    "from nltk.tokenize.treebank import TreebankWordDetokenizer\n",
    "from nltk.util import ngrams\n",
    "from nltk.tokenize import word_tokenize\n",
    "from nltk.stem import SnowballStemmer\n",
    "import pandas\n",
    "nltk.download(\"punkt\")"
   ]
  },
  {
   "cell_type": "code",
   "execution_count": 227,
   "metadata": {},
   "outputs": [],
   "source": [
    "# # Load the dataset\n",
    "# def load_data(danish_file, english_file):\n",
    "#     with open(danish_file, \"r\", encoding=\"utf-8\") as f_da, open(english_file, \"r\", encoding=\"utf-8\") as f_en:\n",
    "#         danish_sentences = [line.strip() for line in f_da.readlines()]\n",
    "#         english_sentences = [line.strip() for line in f_en.readlines()]\n",
    "#     return danish_sentences, english_sentences\n",
    "\n",
    "# danish_sentences, english_sentences = load_data(\"../da.da\", \"../en.en\")\n",
    "\n",
    "# # Tokenization\n",
    "# danish_tokens = [word_tokenize(sent.lower()) for sent in danish_sentences]\n",
    "# english_tokens = [word_tokenize(sent.lower()) for sent in english_sentences]\n",
    "\n",
    "# # Flatten lists for word statistics\n",
    "# danish_words = [word for sent in danish_tokens for word in sent]\n",
    "# english_words = [word for sent in english_tokens for word in sent]\n",
    "\n"
   ]
  },
  {
   "cell_type": "code",
   "execution_count": 228,
   "metadata": {},
   "outputs": [],
   "source": [
    "# num_sentences_da = len(danish_sentences)\n",
    "# num_sentences_en = len(english_sentences)\n",
    "\n",
    "# num_words_da = len(danish_words)\n",
    "# num_words_en = len(english_words)\n",
    "\n",
    "# unique_words_da = len(set(danish_words))\n",
    "# unique_words_en = len(set(english_words))\n",
    "\n",
    "# ttr_da = unique_words_da / num_words_da * 100\n",
    "# ttr_en = unique_words_en / num_words_en * 100\n",
    "\n",
    "# avg_length_da = np.mean([len(sent) for sent in danish_tokens])\n",
    "# avg_length_en = np.mean([len(sent) for sent in english_tokens])\n",
    "\n",
    "# std_length_da = np.std([len(sent) for sent in danish_tokens])\n",
    "# std_length_en = np.std([len(sent) for sent in english_tokens])\n",
    "\n",
    "# min_length_da = np.min([len(sent) for sent in danish_tokens])\n",
    "# min_length_en = np.min([len(sent) for sent in english_tokens])\n",
    "\n",
    "# max_length_da = np.max([len(sent) for sent in danish_tokens])\n",
    "# max_length_en = np.max([len(sent) for sent in english_tokens])\n",
    "\n",
    "# sentence_length_ratio = avg_length_da / avg_length_en \n",
    "\n",
    "# print(f\"Total Sentences: Danish = {num_sentences_da}, English = {num_sentences_en}\")\n",
    "# print(f\"Total Words: Danish = {num_words_da}, English = {num_words_en}\")\n",
    "# print(f\"Unique Words: Danish = {unique_words_da}, English = {unique_words_en}\")\n",
    "# print(f\"Type-Token Ratio: Danish = {ttr_da:.2f}%, English = {ttr_en:.2f}%\")\n",
    "# print(f\"Avg. Sentence Length: Danish = {avg_length_da:.2f}, English = {avg_length_en:.2f}\")\n",
    "# print(f\"Std Dev Sentence Length: Danish = {std_length_da:.2f}, English = {std_length_en:.2f}\")\n",
    "# print(f\"Sentence Length Ratio (DA/EN): {sentence_length_ratio:.2f}\")\n",
    "# print(f\"Min sentence length (DA/EN): Danish = {min_length_da}, English = {min_length_en}\")\n",
    "# print(f\"Max sentence length (DA/EN): Danish = {max_length_da}, English = {max_length_en}\")"
   ]
  },
  {
   "cell_type": "markdown",
   "metadata": {},
   "source": [
    "# Create dataframes"
   ]
  },
  {
   "cell_type": "code",
   "execution_count": 229,
   "metadata": {},
   "outputs": [],
   "source": [
    "# name = \"English\"\n",
    "\n",
    "# with open(\"../en.en\", \"r\", encoding=\"utf-8\") as f:\n",
    "#     for i in range(200):\n",
    "#         lines = [next(f).strip() for _ in range(10000)]\n",
    "#         df = pandas.DataFrame({\"Text\": lines})\n",
    "#         output_file = f\"dataframes/en/{name}{i+1}.csv\"\n",
    "#         df.to_csv(output_file, index=False, encoding=\"utf-8\", quoting=csv.QUOTE_ALL)\n",
    "\n",
    "# name = \"Danish\"\n",
    "\n",
    "# with open(\"../da.da\", \"r\", encoding=\"utf-8\") as f:\n",
    "#     for i in range(200):\n",
    "#         lines = [next(f).strip() for _ in range(10000)]\n",
    "#         df = pandas.DataFrame({\"Text\": lines})\n",
    "#         output_file = f\"dataframes/da/{name}{i+1}.csv\"\n",
    "#         df.to_csv(output_file, index=False, encoding=\"utf-8\", quoting=csv.QUOTE_ALL)\n",
    "\n",
    "\n",
    "# danishData = pandas.read_fwf(\"test.txt\", header=None, names=[\"test_sentences\"])\n",
    "# englishData = pandas.read_fwf(\"test.txt\", header=None, names=[\"test_sentences\"])"
   ]
  },
  {
   "cell_type": "markdown",
   "metadata": {},
   "source": [
    "### Load dependencies (First, look at README)"
   ]
  },
  {
   "cell_type": "code",
   "execution_count": 230,
   "metadata": {},
   "outputs": [
    {
     "name": "stderr",
     "output_type": "stream",
     "text": [
      "[nltk_data] Downloading package wordnet to\n",
      "[nltk_data]     C:\\Users\\oskar\\AppData\\Roaming\\nltk_data...\n",
      "[nltk_data]   Package wordnet is already up-to-date!\n",
      "[nltk_data] Downloading package punkt_tab to\n",
      "[nltk_data]     C:\\Users\\oskar\\AppData\\Roaming\\nltk_data...\n",
      "[nltk_data]   Package punkt_tab is already up-to-date!\n"
     ]
    },
    {
     "data": {
      "text/plain": [
       "True"
      ]
     },
     "execution_count": 230,
     "metadata": {},
     "output_type": "execute_result"
    }
   ],
   "source": [
    "from rouge import Rouge\n",
    "from nltk.translate.bleu_score import sentence_bleu\n",
    "from nltk import word_tokenize\n",
    "from nltk.translate import meteor\n",
    "import nltk\n",
    "nltk.download('wordnet')\n",
    "nltk.download('punkt_tab')"
   ]
  },
  {
   "cell_type": "markdown",
   "metadata": {},
   "source": [
    "### Define functions"
   ]
  },
  {
   "cell_type": "code",
   "execution_count": null,
   "metadata": {},
   "outputs": [],
   "source": [
    "rouge = Rouge()\n",
    "r = RandomWords()\n",
    "\n",
    "def calculate_rouge(candidate, reference):\n",
    "    scores = rouge.get_scores(candidate, reference)\n",
    "    return scores\n",
    "\n",
    "def calculate_bleu(candidate, reference):\n",
    "    reference_p = [word_tokenize(reference)]\n",
    "    candidate_p = word_tokenize(candidate)\n",
    "    score = sentence_bleu(reference_p, candidate_p)\n",
    "    return score\n",
    "\n",
    "def calculate_meteor(candidate, reference):\n",
    "  reference = word_tokenize(reference)\n",
    "  candidate = word_tokenize(candidate)\n",
    "  meteor_score = round(meteor([candidate],reference), 4)\n",
    "  return meteor_score"
   ]
  },
  {
   "cell_type": "markdown",
   "metadata": {},
   "source": [
    "### Perform Rouge test"
   ]
  },
  {
   "cell_type": "code",
   "execution_count": 232,
   "metadata": {},
   "outputs": [],
   "source": [
    "#print(calculate_rouge(chatGptTrans, proTrans))"
   ]
  },
  {
   "cell_type": "markdown",
   "metadata": {},
   "source": [
    "### Perform BLEU test"
   ]
  },
  {
   "cell_type": "code",
   "execution_count": 233,
   "metadata": {},
   "outputs": [],
   "source": [
    "#print(calculate_bleu(chatGptTrans, proTrans))"
   ]
  },
  {
   "cell_type": "markdown",
   "metadata": {},
   "source": [
    "### Perform METEOR test"
   ]
  },
  {
   "cell_type": "code",
   "execution_count": 234,
   "metadata": {},
   "outputs": [],
   "source": [
    "#print(calculate_meteor(chatGptTrans, proTrans))"
   ]
  },
  {
   "cell_type": "markdown",
   "metadata": {},
   "source": [
    "# Replace with synonym"
   ]
  },
  {
   "cell_type": "code",
   "execution_count": 426,
   "metadata": {},
   "outputs": [
    {
     "name": "stdout",
     "output_type": "stream",
     "text": [
      "(True, 'hello my name personify oskar and i am 28 years old')\n"
     ]
    }
   ],
   "source": [
    "def findSynonym(w):\n",
    "    res = []\n",
    "    for x in wordnet.synsets(w):\n",
    "        for y in x.lemma_names():\n",
    "            res.append(y.replace(\"_\", \" \"))\n",
    "    if len(res) > 0:\n",
    "        word = random.choice(list(set(res)))\n",
    "        return [not word==w, word]\n",
    "    else: return [False, \"\"] \n",
    "\n",
    "def replaceWordWithSynonym(sen):\n",
    "    toks = word_tokenize(sen.lower())\n",
    "    indx = random.randrange(len(toks))\n",
    "    syn = findSynonym(toks[indx])\n",
    "    if syn[0]:\n",
    "        res = toks\n",
    "        res[indx] = syn[1]\n",
    "        return True, TreebankWordDetokenizer().detokenize(res)\n",
    "    else: return False, TreebankWordDetokenizer().detokenize(toks)\n",
    "\n",
    "print(replaceWordWithSynonym(\"Hello my name is Oskar and I am 28 years old\"))"
   ]
  },
  {
   "cell_type": "markdown",
   "metadata": {},
   "source": [
    "# Replace with random word"
   ]
  },
  {
   "cell_type": "code",
   "execution_count": 432,
   "metadata": {},
   "outputs": [
    {
     "name": "stdout",
     "output_type": "stream",
     "text": [
      "hello cogitabundity is going on\n"
     ]
    }
   ],
   "source": [
    "def replaceWordWithSynonym(sen):\n",
    "    randomWord = r.get_random_word()\n",
    "    toks = word_tokenize(sen.lower())\n",
    "    indx = random.randrange(len(toks))\n",
    "    toks[indx] = randomWord\n",
    "    return TreebankWordDetokenizer().detokenize(toks)\n",
    "\n",
    "print(replaceWordWithSynonym(\"Hello what is going on\"))"
   ]
  },
  {
   "cell_type": "markdown",
   "metadata": {},
   "source": [
    "# Swap Words"
   ]
  },
  {
   "cell_type": "code",
   "execution_count": 435,
   "metadata": {},
   "outputs": [
    {
     "name": "stdout",
     "output_type": "stream",
     "text": [
      "hello what are you right doing now \n"
     ]
    }
   ],
   "source": [
    "def swapXWords(sen):\n",
    "    words = sen.count(\" \") + 1\n",
    "    toSwap = random.randint(0, words-2)\n",
    "    wordList = sen.split()\n",
    "    tmp = wordList[toSwap]\n",
    "    wordList[toSwap] = wordList[toSwap+1]\n",
    "    wordList[toSwap+1] = tmp\n",
    "    res = \"\"\n",
    "    for x in wordList:\n",
    "        res += x + \" \"\n",
    "    return res.lower()\n",
    "\n",
    "print(swapXWords(\"Hello what are you doing right now\"))"
   ]
  },
  {
   "cell_type": "markdown",
   "metadata": {},
   "source": [
    "# Remove Word"
   ]
  },
  {
   "cell_type": "code",
   "execution_count": 439,
   "metadata": {},
   "outputs": [
    {
     "name": "stdout",
     "output_type": "stream",
     "text": [
      "hello what are doing right now\n"
     ]
    }
   ],
   "source": [
    "def removeWord(sen):\n",
    "    toks = word_tokenize(sen.lower())\n",
    "    indx = random.randrange(len(toks))\n",
    "    del toks[indx]\n",
    "    return TreebankWordDetokenizer().detokenize(toks)\n",
    "\n",
    "print(removeWord(\"Hello what are you doing right now\"))"
   ]
  },
  {
   "cell_type": "markdown",
   "metadata": {},
   "source": [
    "# Add random word"
   ]
  },
  {
   "cell_type": "code",
   "execution_count": 452,
   "metadata": {},
   "outputs": [
    {
     "name": "stdout",
     "output_type": "stream",
     "text": [
      "hello, what are ulotrichi you doing?\n"
     ]
    }
   ],
   "source": [
    "def addRandomWord(sen):\n",
    "    toks = word_tokenize(sen.lower())\n",
    "    indx = random.randrange(len(toks))\n",
    "    toks.insert(indx, r.get_random_word())\n",
    "    return TreebankWordDetokenizer().detokenize(toks)\n",
    "\n",
    "print(addRandomWord(\"Hello, what are you doing?\"))"
   ]
  },
  {
   "cell_type": "markdown",
   "metadata": {},
   "source": [
    "# Duplicate word"
   ]
  },
  {
   "cell_type": "code",
   "execution_count": 455,
   "metadata": {},
   "outputs": [
    {
     "name": "stdout",
     "output_type": "stream",
     "text": [
      "hello, what are you doing doing?\n"
     ]
    }
   ],
   "source": [
    "def duplicateWord(sen):\n",
    "    toks = word_tokenize(sen.lower())\n",
    "    indx = random.randrange(len(toks))\n",
    "    word = toks[indx]\n",
    "    toks.insert(indx, word)\n",
    "    return TreebankWordDetokenizer().detokenize(toks)\n",
    "\n",
    "print(duplicateWord(\"Hello, what are you doing?\"))"
   ]
  },
  {
   "cell_type": "markdown",
   "metadata": {},
   "source": [
    "# Character replacement"
   ]
  },
  {
   "cell_type": "code",
   "execution_count": 464,
   "metadata": {},
   "outputs": [
    {
     "name": "stdout",
     "output_type": "stream",
     "text": [
      "Hello, what are you koing?\n"
     ]
    }
   ],
   "source": [
    "def replaceCharacter(sen):\n",
    "    lst = list(sen)\n",
    "    indx = random.randrange(len(lst))\n",
    "    lst[indx] = random.choice(\"abcdefghijklmnopqrstuvwxyz\")\n",
    "    return \"\".join(lst)\n",
    "\n",
    "print(replaceCharacter(\"Hello, what are you doing?\"))"
   ]
  },
  {
   "cell_type": "markdown",
   "metadata": {},
   "source": [
    "# Character Duplication"
   ]
  },
  {
   "cell_type": "code",
   "execution_count": 466,
   "metadata": {},
   "outputs": [
    {
     "name": "stdout",
     "output_type": "stream",
     "text": [
      "Hello, what are you doiing?\n"
     ]
    }
   ],
   "source": [
    "def duplicateCharacter(sen):\n",
    "    lst = list(sen)\n",
    "    indx = random.randrange(len(lst))\n",
    "    lst.insert(indx, lst[indx])\n",
    "    return \"\".join(lst)\n",
    "\n",
    "print(duplicateCharacter(\"Hello, what are you doing?\"))"
   ]
  },
  {
   "cell_type": "markdown",
   "metadata": {},
   "source": [
    "# Character Removal"
   ]
  },
  {
   "cell_type": "code",
   "execution_count": 382,
   "metadata": {},
   "outputs": [
    {
     "name": "stdout",
     "output_type": "stream",
     "text": [
      "Hello, what are you doig?\n"
     ]
    }
   ],
   "source": [
    "def removeCharacter(sen):\n",
    "    lst = list(sen)\n",
    "    indx = random.randrange(len(lst))\n",
    "    del lst[indx]\n",
    "    return \"\".join(lst)\n",
    "\n",
    "print(removeCharacter(\"Hello, what are you doing?\"))"
   ]
  },
  {
   "cell_type": "markdown",
   "metadata": {},
   "source": [
    "# Character Swapping"
   ]
  },
  {
   "cell_type": "code",
   "execution_count": 398,
   "metadata": {},
   "outputs": [
    {
     "name": "stdout",
     "output_type": "stream",
     "text": [
      "Hello, what are oyu doing?\n"
     ]
    }
   ],
   "source": [
    "def swapCharacters(sen):\n",
    "    lst = list(sen)\n",
    "    indx = random.randrange(len(lst)-1)\n",
    "    temp = lst[indx]\n",
    "    lst[indx] = lst[indx+1]\n",
    "    lst[indx+1] = temp\n",
    "    return \"\".join(lst)\n",
    "\n",
    "print(swapCharacters(\"Hello, what are you doing?\"))"
   ]
  }
 ],
 "metadata": {
  "kernelspec": {
   "display_name": "Python 3",
   "language": "python",
   "name": "python3"
  },
  "language_info": {
   "codemirror_mode": {
    "name": "ipython",
    "version": 3
   },
   "file_extension": ".py",
   "mimetype": "text/x-python",
   "name": "python",
   "nbconvert_exporter": "python",
   "pygments_lexer": "ipython3",
   "version": "3.12.5"
  }
 },
 "nbformat": 4,
 "nbformat_minor": 2
}
